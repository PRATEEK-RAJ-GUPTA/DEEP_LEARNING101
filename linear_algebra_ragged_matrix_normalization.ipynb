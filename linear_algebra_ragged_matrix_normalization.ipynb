{
  "nbformat": 4,
  "nbformat_minor": 0,
  "metadata": {
    "colab": {
      "provenance": [],
      "authorship_tag": "ABX9TyMZoHYrwYRptM5tFTo4Ldsa",
      "include_colab_link": true
    },
    "kernelspec": {
      "name": "python3",
      "display_name": "Python 3"
    },
    "language_info": {
      "name": "python"
    }
  },
  "cells": [
    {
      "cell_type": "markdown",
      "metadata": {
        "id": "view-in-github",
        "colab_type": "text"
      },
      "source": [
        "<a href=\"https://colab.research.google.com/github/PRATEEK-RAJ-GUPTA/DEEP_LEARNING101/blob/main/linear_algebra_ragged_matrix_normalization.ipynb\" target=\"_parent\"><img src=\"https://colab.research.google.com/assets/colab-badge.svg\" alt=\"Open In Colab\"/></a>"
      ]
    },
    {
      "cell_type": "markdown",
      "source": [
        "**tf.math.to_k-->Finds values and indices of the k largest entries for the last dimension.**"
      ],
      "metadata": {
        "id": "EENNJKQ5UcWt"
      }
    },
    {
      "cell_type": "code",
      "source": [
        "import tensorflow as tf"
      ],
      "metadata": {
        "id": "J_CJx9gKUoQM"
      },
      "execution_count": null,
      "outputs": []
    },
    {
      "cell_type": "code",
      "source": [
        "result = tf.math.top_k([1, 2, 98, 1, 1, 99, 3, 1, 3, 96, 4, 1],\n",
        "                        k=3)\n",
        "result.values.numpy()"
      ],
      "metadata": {
        "colab": {
          "base_uri": "https://localhost:8080/"
        },
        "id": "DklVvu7sUiXO",
        "outputId": "874e98b9-7e52-48a3-f4b2-e9f99293e08d"
      },
      "execution_count": null,
      "outputs": [
        {
          "output_type": "execute_result",
          "data": {
            "text/plain": [
              "array([99, 98, 96], dtype=int32)"
            ]
          },
          "metadata": {},
          "execution_count": 3
        }
      ]
    },
    {
      "cell_type": "markdown",
      "source": [
        "**tf.linalg.matmul-->Multiplies matrix a by matrix b, producing a * b.**"
      ],
      "metadata": {
        "id": "AB4YJ_UFVHLe"
      }
    },
    {
      "cell_type": "code",
      "source": [
        "a=tf.constant([[1,2,0],\n",
        "               [3,5,-1]])\n",
        "b=tf.constant([[1,2,0,2],\n",
        "               [3,5,-1,2],\n",
        "               [4,5,6,0]])\n",
        "tf.linalg.matmul(\n",
        "    a,\n",
        "    b,\n",
        "    transpose_a=False,\n",
        "    transpose_b=False,\n",
        "    adjoint_a=False,\n",
        "    adjoint_b=False,\n",
        "    a_is_sparse=False,\n",
        "    b_is_sparse=False,\n",
        "    output_type=None,\n",
        "    name=None\n",
        ")"
      ],
      "metadata": {
        "colab": {
          "base_uri": "https://localhost:8080/"
        },
        "id": "XHVc_RT7Ul78",
        "outputId": "b3e98744-6bcd-48de-e806-7d5f0f9e81a2"
      },
      "execution_count": null,
      "outputs": [
        {
          "output_type": "execute_result",
          "data": {
            "text/plain": [
              "<tf.Tensor: shape=(2, 4), dtype=int32, numpy=\n",
              "array([[  7,  12,  -2,   6],\n",
              "       [ 14,  26, -11,  16]], dtype=int32)>"
            ]
          },
          "metadata": {},
          "execution_count": 4
        }
      ]
    },
    {
      "cell_type": "code",
      "source": [
        "print(a@b)"
      ],
      "metadata": {
        "colab": {
          "base_uri": "https://localhost:8080/"
        },
        "id": "eiG6L24AVhzL",
        "outputId": "3e20b3a5-1567-4072-a801-c5de5f40b08b"
      },
      "execution_count": null,
      "outputs": [
        {
          "output_type": "stream",
          "name": "stdout",
          "text": [
            "tf.Tensor(\n",
            "[[  7  12  -2   6]\n",
            " [ 14  26 -11  16]], shape=(2, 4), dtype=int32)\n"
          ]
        }
      ]
    },
    {
      "cell_type": "markdown",
      "source": [
        "**TRANSPOSE**"
      ],
      "metadata": {
        "id": "EqehZa9uWQyD"
      }
    },
    {
      "cell_type": "code",
      "source": [
        "print(tf.transpose(a))"
      ],
      "metadata": {
        "colab": {
          "base_uri": "https://localhost:8080/"
        },
        "id": "fvCFbwjzV25e",
        "outputId": "8306f875-f3ab-42c0-8e8c-07e76d6e6c54"
      },
      "execution_count": null,
      "outputs": [
        {
          "output_type": "stream",
          "name": "stdout",
          "text": [
            "tf.Tensor(\n",
            "[[ 1  3]\n",
            " [ 2  5]\n",
            " [ 0 -1]], shape=(3, 2), dtype=int32)\n"
          ]
        }
      ]
    },
    {
      "cell_type": "markdown",
      "source": [
        "in 3-d matrix multiplication we are tend see the row and column of each dimensional matrix"
      ],
      "metadata": {
        "id": "sR62S0A7YdTK"
      }
    },
    {
      "cell_type": "code",
      "source": [
        "x_1=tf.constant([[[1,2],\n",
        "                  [3,5]],\n",
        "                  [[10,2],\n",
        "                  [1,0]],\n",
        "                  [[5,8],\n",
        "                  [2,7]]])\n",
        "\n",
        "x_2=tf.constant([[[5,1,4],\n",
        "                  [34,15,1]],\n",
        "                  [[1,2,2],\n",
        "                  [5,3,2]],\n",
        "                  [[2,2,3],\n",
        "                  [1,1,1]]])\n",
        "\n",
        "\n",
        "print(x_1)\n",
        "print(x_2)"
      ],
      "metadata": {
        "colab": {
          "base_uri": "https://localhost:8080/"
        },
        "id": "YWVdV2PUV4bI",
        "outputId": "34ee2b00-cf68-4da8-a2d7-e7e211af8908"
      },
      "execution_count": null,
      "outputs": [
        {
          "output_type": "stream",
          "name": "stdout",
          "text": [
            "tf.Tensor(\n",
            "[[[ 1  2]\n",
            "  [ 3  5]]\n",
            "\n",
            " [[10  2]\n",
            "  [ 1  0]]\n",
            "\n",
            " [[ 5  8]\n",
            "  [ 2  7]]], shape=(3, 2, 2), dtype=int32)\n",
            "tf.Tensor(\n",
            "[[[ 5  1  4]\n",
            "  [34 15  1]]\n",
            "\n",
            " [[ 1  2  2]\n",
            "  [ 5  3  2]]\n",
            "\n",
            " [[ 2  2  3]\n",
            "  [ 1  1  1]]], shape=(3, 2, 3), dtype=int32)\n"
          ]
        }
      ]
    },
    {
      "cell_type": "code",
      "source": [
        "print(tf.linalg.matmul(x_1,x_2))"
      ],
      "metadata": {
        "colab": {
          "base_uri": "https://localhost:8080/"
        },
        "id": "ljQgqrMbYBBW",
        "outputId": "3d908748-d18a-4313-fd37-8fac4a2fe2c8"
      },
      "execution_count": null,
      "outputs": [
        {
          "output_type": "stream",
          "name": "stdout",
          "text": [
            "tf.Tensor(\n",
            "[[[ 73  31   6]\n",
            "  [185  78  17]]\n",
            "\n",
            " [[ 20  26  24]\n",
            "  [  1   2   2]]\n",
            "\n",
            " [[ 18  18  23]\n",
            "  [ 11  11  13]]], shape=(3, 2, 3), dtype=int32)\n"
          ]
        }
      ]
    },
    {
      "cell_type": "markdown",
      "source": [
        "**matrix that are mostly zeros-->spase matix** tensorflow has method for it"
      ],
      "metadata": {
        "id": "b_G1D9iXZLsF"
      }
    },
    {
      "cell_type": "markdown",
      "source": [
        "**tf.linalg.cholesky-->Computes the Cholesky decomposition of one or more square matrices.**\n",
        "tf.linalg.cholesky(\n",
        "    input, name=None\n",
        ")"
      ],
      "metadata": {
        "id": "oIXsdMYFeQfM"
      }
    },
    {
      "cell_type": "markdown",
      "source": [
        "**tf.linalg.cross(a,b,name=None)-->find the cross product of a and b**"
      ],
      "metadata": {
        "id": "GSvUAYc_eaPg"
      }
    },
    {
      "cell_type": "markdown",
      "source": [
        "**tf.linalg.det()-->return the determinant**"
      ],
      "metadata": {
        "id": "8m1OYLGLelbw"
      }
    },
    {
      "cell_type": "markdown",
      "source": [
        "**tf.linalg.inv()**"
      ],
      "metadata": {
        "id": "O9paG0epfOAt"
      }
    },
    {
      "cell_type": "markdown",
      "source": [
        "**tf.linalg.matrix_transpose(a,name=matrix_transpose,conjugate=False**"
      ],
      "metadata": {
        "id": "d7WzmfuKfRcL"
      }
    },
    {
      "cell_type": "markdown",
      "source": [
        "**tf.linalg.svd--->compute the single value decomposition of one or more matrix**\n"
      ],
      "metadata": {
        "id": "jdotWgcnhzUy"
      }
    },
    {
      "cell_type": "markdown",
      "source": [
        "# a is a tensor.\n",
        "# s is a tensor of singular values.\n",
        "# u is a tensor of left singular vectors.\n",
        "# v is a tensor of right singular vectors.\n",
        "s, u, v = svd(a)\n",
        "s = svd(a, compute_uv=False)"
      ],
      "metadata": {
        "id": "Pdg6g8T-h-u9"
      }
    },
    {
      "cell_type": "markdown",
      "source": [
        "**tf.einsum()-->it is basically and operator which provide us dynamic way to do matix operation**"
      ],
      "metadata": {
        "id": "AiJcCRgKiToo"
      }
    },
    {
      "cell_type": "code",
      "source": [
        "m0 = tf.random.normal(shape=[2, 3])\n",
        "m1 = tf.random.normal(shape=[3, 5])\n",
        "e = tf.einsum('ij,jk->ik', m0, m1)\n",
        "# output[i,k] = sum_j m0[i,j] * m1[j, k]\n",
        "print(e)"
      ],
      "metadata": {
        "colab": {
          "base_uri": "https://localhost:8080/"
        },
        "id": "mZRZePimYMW6",
        "outputId": "86560ef2-2c65-4982-b7aa-3c03e37ca84d"
      },
      "execution_count": null,
      "outputs": [
        {
          "output_type": "stream",
          "name": "stdout",
          "text": [
            "tf.Tensor(\n",
            "[[-1.4922068   0.26155162  1.0182369   3.0723135   2.377229  ]\n",
            " [-0.19907314  0.33972892  0.25766155  1.7829735   2.1485343 ]], shape=(2, 5), dtype=float32)\n"
          ]
        }
      ]
    },
    {
      "cell_type": "markdown",
      "source": [
        "dot product"
      ],
      "metadata": {
        "id": "PxNKWmRtkZx1"
      }
    },
    {
      "cell_type": "code",
      "source": [
        "u = tf.random.normal(shape=[5])\n",
        "v = tf.random.normal(shape=[5])\n",
        "e = tf.einsum('i,i->', u, v)  # output = sum_i u[i]*v[i]\n",
        "print(e.shape)"
      ],
      "metadata": {
        "colab": {
          "base_uri": "https://localhost:8080/"
        },
        "id": "VNjVVJaakNwr",
        "outputId": "ad0a0980-6f1f-4380-c605-443d91e3b22f"
      },
      "execution_count": null,
      "outputs": [
        {
          "output_type": "stream",
          "name": "stdout",
          "text": [
            "()\n"
          ]
        }
      ]
    },
    {
      "cell_type": "markdown",
      "source": [
        "outer-product"
      ],
      "metadata": {
        "id": "iCho2XoXkbSd"
      }
    },
    {
      "cell_type": "code",
      "source": [
        "u = tf.random.normal(shape=[3])\n",
        "v = tf.random.normal(shape=[5])\n",
        "e = tf.einsum('i,j->ij', u, v)  # output[i,j] = u[i]*v[j]\n",
        "print(e.shape)\n"
      ],
      "metadata": {
        "colab": {
          "base_uri": "https://localhost:8080/"
        },
        "id": "VkMyezVMkWR1",
        "outputId": "41a3d5fe-b67f-4c83-bc4b-c7ed26ce7300"
      },
      "execution_count": null,
      "outputs": [
        {
          "output_type": "stream",
          "name": "stdout",
          "text": [
            "(3, 5)\n"
          ]
        }
      ]
    },
    {
      "cell_type": "markdown",
      "source": [
        "transpose"
      ],
      "metadata": {
        "id": "u270mjexkdFd"
      }
    },
    {
      "cell_type": "code",
      "source": [
        "m = tf.ones(2,3)\n",
        "e = tf.einsum('ij->ji', m0)  # output[j,i] = m0[i,j]\n",
        "print(e.shape)\n"
      ],
      "metadata": {
        "colab": {
          "base_uri": "https://localhost:8080/"
        },
        "id": "cCF0tKGUkZMX",
        "outputId": "45e363a8-6b6a-435b-dc41-26c571a08691"
      },
      "execution_count": null,
      "outputs": [
        {
          "output_type": "stream",
          "name": "stdout",
          "text": [
            "(3, 2)\n"
          ]
        }
      ]
    },
    {
      "cell_type": "markdown",
      "source": [
        "Batch-matrix multiplication-->3D MATRIX MULTIPLICATION"
      ],
      "metadata": {
        "id": "_qJNJ11SkkXt"
      }
    },
    {
      "cell_type": "code",
      "source": [
        "s = tf.random.normal(shape=[7,5,3])\n",
        "t = tf.random.normal(shape=[7,3,2])\n",
        "e = tf.einsum('bij,bjk->bik', s, t)\n",
        "# output[a,i,k] = sum_j s[a,i,j] * t[a, j, k]\n",
        "print(e.shape)\n"
      ],
      "metadata": {
        "colab": {
          "base_uri": "https://localhost:8080/"
        },
        "id": "V9ngzcNykgHV",
        "outputId": "0d0ce9bb-83cd-45c9-f676-8ceaa71551cf"
      },
      "execution_count": null,
      "outputs": [
        {
          "output_type": "stream",
          "name": "stdout",
          "text": [
            "(7, 5, 2)\n"
          ]
        }
      ]
    },
    {
      "cell_type": "markdown",
      "source": [
        "**The matrix should have the same shape**\n",
        "This method does not support broadcasting on named-axes. All axes with matching labels should have the same length. If you have length-1 axes, use tf.squeeze or tf.reshape to eliminate them.\n",
        "\n",
        "To write code that is agnostic to the number of indices in the input use an ellipsis. The ellipsis is a placeholder for \"whatever other indices fit here\"."
      ],
      "metadata": {
        "id": "i-GHs6bfkzkS"
      }
    },
    {
      "cell_type": "code",
      "source": [],
      "metadata": {
        "id": "AhEa-t5zkm9p"
      },
      "execution_count": null,
      "outputs": []
    },
    {
      "cell_type": "markdown",
      "source": [
        "**TF.RAGGED**"
      ],
      "metadata": {
        "id": "vLPO3ucFnXhY"
      }
    },
    {
      "cell_type": "markdown",
      "source": [
        "This package defines ops for manipulating ragged tensors (tf.RaggedTensor), which are tensors with non-uniform shapes. In particular, each RaggedTensor has one or more ragged dimensions, which are dimensions whose slices may have different lengths. For example, the inner (column) dimension of rt=[[3, 1, 4, 1], [], [5, 9, 2], [6], []] is ragged, since the column slices (rt[0, :], ..., rt[4, :]) have different lengths. For a more detailed description of ragged tensors, see the tf.RaggedTensor class documentation and the Ragged Tensor Guide."
      ],
      "metadata": {
        "id": "O9a-xarQrsel"
      }
    },
    {
      "cell_type": "code",
      "source": [
        "tensor_two_d=[[1,2,0],\n",
        "              [3,],\n",
        "              [1,2,5,6,7,8,8],\n",
        "              [2,3]]\n",
        "\n",
        "tensor_ragged=tf.ragged.constant(tensor_two_d)\n",
        "print(tensor_ragged)"
      ],
      "metadata": {
        "colab": {
          "base_uri": "https://localhost:8080/"
        },
        "id": "2xt01LPRnZ_r",
        "outputId": "e140f6d0-25a4-4f32-bde2-b4f5fc5e0dc2"
      },
      "execution_count": null,
      "outputs": [
        {
          "output_type": "stream",
          "name": "stdout",
          "text": [
            "<tf.RaggedTensor [[1, 2, 0], [3], [1, 2, 5, 6, 7, 8, 8], [2, 3]]>\n"
          ]
        }
      ]
    },
    {
      "cell_type": "markdown",
      "source": [
        "**tf.ragged.boolean_mask-->Applies a boolean mask to data without flattening the mask dimensions.**"
      ],
      "metadata": {
        "id": "rBZfU7vcsS6R"
      }
    },
    {
      "cell_type": "code",
      "source": [
        "T=True\n",
        "F=False\n",
        "tf.ragged.boolean_mask(  # Mask a 2D Tensor.\n",
        "    data=[[1, 2, 3], [4, 5, 6], [7, 8, 9]],\n",
        "    mask=[[T, F, T], [F, F, F], [T, F, F]]).to_list()"
      ],
      "metadata": {
        "colab": {
          "base_uri": "https://localhost:8080/"
        },
        "id": "KpmyjD1isIQg",
        "outputId": "8a009abb-1099-4c9f-fa4d-141d661d94d1"
      },
      "execution_count": null,
      "outputs": [
        {
          "output_type": "execute_result",
          "data": {
            "text/plain": [
              "[[1, 3], [], [7]]"
            ]
          },
          "metadata": {},
          "execution_count": 27
        }
      ]
    },
    {
      "cell_type": "code",
      "source": [
        "tf.ragged.boolean_mask(  # Mask rows of a 2D RaggedTensor.\n",
        "    tf.ragged.constant([[1, 2, 3], [4], [5, 6]]),\n",
        "    tf.ragged.constant([True, False, True])).to_list()"
      ],
      "metadata": {
        "colab": {
          "base_uri": "https://localhost:8080/"
        },
        "id": "DxPQS4puse_M",
        "outputId": "05611896-6aae-4843-db8b-2bf400aa481b"
      },
      "execution_count": null,
      "outputs": [
        {
          "output_type": "execute_result",
          "data": {
            "text/plain": [
              "[[1, 2, 3], [5, 6]]"
            ]
          },
          "metadata": {},
          "execution_count": 28
        }
      ]
    },
    {
      "cell_type": "code",
      "source": [
        "print(tf.RaggedTensor.from_row_lengths(\n",
        "    values=[3, 1, 4, 1, 5, 9, 2, 6],\n",
        "    row_lengths=[4, 0, 3, 1, 0]))"
      ],
      "metadata": {
        "colab": {
          "base_uri": "https://localhost:8080/"
        },
        "id": "EE6T6Hzcsnp1",
        "outputId": "5f906715-4ee9-4ba1-94ac-58af307da479"
      },
      "execution_count": null,
      "outputs": [
        {
          "output_type": "stream",
          "name": "stdout",
          "text": [
            "<tf.RaggedTensor [[3, 1, 4, 1], [], [5, 9, 2], [6], []]>\n"
          ]
        }
      ]
    },
    {
      "cell_type": "code",
      "source": [
        "print(tf.RaggedTensor.from_row_limits(\n",
        "    values=[3, 1, 4, 1, 5, 9, 2, 6],\n",
        "    row_limits=[4, 4, 7, 8, 8]))"
      ],
      "metadata": {
        "colab": {
          "base_uri": "https://localhost:8080/"
        },
        "id": "Q_jaHIc0s7pR",
        "outputId": "3aeaad3c-7568-4af4-e4f7-ec98e8164906"
      },
      "execution_count": null,
      "outputs": [
        {
          "output_type": "stream",
          "name": "stdout",
          "text": [
            "<tf.RaggedTensor [[3, 1, 4, 1], [], [5, 9, 2], [6], []]>\n"
          ]
        }
      ]
    },
    {
      "cell_type": "code",
      "source": [
        "dt = tf.constant([[5, 7, 0], [0, 3, 0], [6, 0, 0]])\n",
        "tf.RaggedTensor.from_tensor(dt)\n",
        "\n",
        "tf.RaggedTensor.from_tensor(dt, lengths=[1, 0, 3])"
      ],
      "metadata": {
        "colab": {
          "base_uri": "https://localhost:8080/"
        },
        "id": "ZycMxuSetL2D",
        "outputId": "b107e137-6134-415b-ac14-1516e7d7d097"
      },
      "execution_count": null,
      "outputs": [
        {
          "output_type": "execute_result",
          "data": {
            "text/plain": [
              "<tf.RaggedTensor [[5], [], [6, 0, 0]]>"
            ]
          },
          "metadata": {},
          "execution_count": 31
        }
      ]
    },
    {
      "cell_type": "code",
      "source": [
        "print(tf.RaggedTensor.from_row_splits(\n",
        "    values=[3, 1, 4, 1, 5, 9, 2, 6],\n",
        "    row_splits=[0, 4, 4, 7, 8, 8]))"
      ],
      "metadata": {
        "colab": {
          "base_uri": "https://localhost:8080/"
        },
        "id": "qmMwg-qgtprN",
        "outputId": "a60f8f81-5b08-4505-accd-c9fac242b1a4"
      },
      "execution_count": null,
      "outputs": [
        {
          "output_type": "stream",
          "name": "stdout",
          "text": [
            "<tf.RaggedTensor [[3, 1, 4, 1], [], [5, 9, 2], [6], []]>\n"
          ]
        }
      ]
    },
    {
      "cell_type": "code",
      "source": [
        "import tensorflow as tf\n",
        "from tensorflow.keras.layers import Normalization"
      ],
      "metadata": {
        "id": "rFCTrVLeMjUS"
      },
      "execution_count": null,
      "outputs": []
    },
    {
      "cell_type": "code",
      "source": [
        "normalizer=Normalization(axis=-1,mean=5,variance=4)#axis=-1 mean columns normalization\n",
        "x_normalized=tf.constant([[3,4,5,6,7],\n",
        "                         [4,5,6,7,8]])\n",
        "normalizer(x_normalized)"
      ],
      "metadata": {
        "colab": {
          "base_uri": "https://localhost:8080/"
        },
        "id": "_l23OrdDtv74",
        "outputId": "6e4386fd-0324-455c-8e2f-a69b81f0f254"
      },
      "execution_count": null,
      "outputs": [
        {
          "output_type": "execute_result",
          "data": {
            "text/plain": [
              "<tf.Tensor: shape=(2, 5), dtype=float32, numpy=\n",
              "array([[-1. , -0.5,  0. ,  0.5,  1. ],\n",
              "       [-0.5,  0. ,  0.5,  1. ,  1.5]], dtype=float32)>"
            ]
          },
          "metadata": {},
          "execution_count": 5
        }
      ]
    },
    {
      "cell_type": "code",
      "source": [
        "normalizer=Normalization()\n",
        "x_normalized=tf.constant([[3,4,5,6,7],\n",
        "                         [4,5,6,7,8]])\n",
        "normalizer.adapt(x_normalized)\n",
        "normalizer(x_normalized)"
      ],
      "metadata": {
        "colab": {
          "base_uri": "https://localhost:8080/"
        },
        "id": "Q5NbkDwEMbVN",
        "outputId": "993ece19-8918-4a49-f440-c1459dad8f53"
      },
      "execution_count": null,
      "outputs": [
        {
          "output_type": "execute_result",
          "data": {
            "text/plain": [
              "<tf.Tensor: shape=(2, 5), dtype=float32, numpy=\n",
              "array([[-1., -1., -1., -1., -1.],\n",
              "       [ 1.,  1.,  1.,  1.,  1.]], dtype=float32)>"
            ]
          },
          "metadata": {},
          "execution_count": 6
        }
      ]
    },
    {
      "cell_type": "code",
      "source": [],
      "metadata": {
        "id": "UxYwqaILMj3J"
      },
      "execution_count": null,
      "outputs": []
    }
  ]
}