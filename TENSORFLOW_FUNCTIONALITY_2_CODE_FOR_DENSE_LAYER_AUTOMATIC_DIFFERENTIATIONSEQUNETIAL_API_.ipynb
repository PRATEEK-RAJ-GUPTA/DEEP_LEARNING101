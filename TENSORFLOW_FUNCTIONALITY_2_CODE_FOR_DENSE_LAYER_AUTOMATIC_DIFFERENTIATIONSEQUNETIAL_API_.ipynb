{
  "nbformat": 4,
  "nbformat_minor": 0,
  "metadata": {
    "colab": {
      "provenance": [],
      "authorship_tag": "ABX9TyPaZZ4xDtQfp2frp0QTrlXt",
      "include_colab_link": true
    },
    "kernelspec": {
      "name": "python3",
      "display_name": "Python 3"
    },
    "language_info": {
      "name": "python"
    }
  },
  "cells": [
    {
      "cell_type": "markdown",
      "metadata": {
        "id": "view-in-github",
        "colab_type": "text"
      },
      "source": [
        "<a href=\"https://colab.research.google.com/github/PRATEEK-RAJ-GUPTA/DEEP_LEARNING101/blob/main/TENSORFLOW_FUNCTIONALITY_2_CODE_FOR_DENSE_LAYER_AUTOMATIC_DIFFERENTIATIONSEQUNETIAL_API_.ipynb\" target=\"_parent\"><img src=\"https://colab.research.google.com/assets/colab-badge.svg\" alt=\"Open In Colab\"/></a>"
      ]
    },
    {
      "cell_type": "markdown",
      "source": [
        "**SHAPE DEFINE-->DIMENSION AND SIZE OF TESNOR**"
      ],
      "metadata": {
        "id": "KW4jFLtJ-efh"
      }
    },
    {
      "cell_type": "markdown",
      "source": [
        "**RANK DEFINE-->NUMBER OF DIMENSION**"
      ],
      "metadata": {
        "id": "3OYWg8ji-k9o"
      }
    },
    {
      "cell_type": "code",
      "source": [
        "import tensorflow as tf\n",
        "import numpy as np\n",
        "import matplotlib.pyplot as plt"
      ],
      "metadata": {
        "id": "9TrMw14M-8S2"
      },
      "execution_count": 79,
      "outputs": []
    },
    {
      "cell_type": "code",
      "source": [
        "sport=tf.constant('Tennis',tf.string)\n",
        "number=tf.constant(1.41421356237,tf.float64)\n",
        "print('number is a {}-d tensor'.format(tf.rank(number).numpy()))\n",
        "print(\"`sport` is a {}-d tensor\".format(tf.rank(sport)))"
      ],
      "metadata": {
        "colab": {
          "base_uri": "https://localhost:8080/"
        },
        "id": "5uanEuTC-kei",
        "outputId": "81c72a35-c8fb-42d6-ec94-16ceafd99806"
      },
      "execution_count": 4,
      "outputs": [
        {
          "output_type": "stream",
          "name": "stdout",
          "text": [
            "number is a 0-d tensor\n",
            "`sport` is a 0-d tensor\n"
          ]
        }
      ]
    },
    {
      "cell_type": "code",
      "source": [
        "sports = tf.constant([\"Tennis\", \"Basketball\"], tf.string)\n",
        "numbers = tf.constant([3.141592, 1.414213, 2.71821], tf.float64)\n",
        "\n",
        "print(\"`sports` is a {}-d Tensor with shape: {}\".format(tf.rank(sports).numpy(), tf.shape(sports)))\n",
        "print(\"`numbers` is a {}-d Tensor with shape: {}\".format(tf.rank(numbers).numpy(),tf.shape(numbers)))"
      ],
      "metadata": {
        "colab": {
          "base_uri": "https://localhost:8080/"
        },
        "id": "PrmcMGxA-59m",
        "outputId": "651731c8-845a-41ab-c026-a576835f7034"
      },
      "execution_count": 9,
      "outputs": [
        {
          "output_type": "stream",
          "name": "stdout",
          "text": [
            "`sports` is a 1-d Tensor with shape: [2]\n",
            "`numbers` is a 1-d Tensor with shape: [3]\n"
          ]
        }
      ]
    },
    {
      "cell_type": "code",
      "source": [
        "matrix=tf.constant([[1,2,3],\n",
        "                    [1,2,3]])\n",
        "\n",
        "assert isinstance(matrix,tf.Tensor)\n",
        "assert tf.rank(matrix).numpy() == 2\n",
        "#so in the above matrix is a 2-d matrix with rank 2"
      ],
      "metadata": {
        "id": "qeN0eq8E_ZwM"
      },
      "execution_count": 22,
      "outputs": []
    },
    {
      "cell_type": "code",
      "source": [
        "images=tf.zeros([10,256,256,3])\n",
        "assert tf.shape(images).numpy().tolist()==[10,256,256,3]\n",
        "print(images)"
      ],
      "metadata": {
        "colab": {
          "base_uri": "https://localhost:8080/"
        },
        "id": "ka5ZFKlX__tx",
        "outputId": "2507bf8c-b238-48d3-c769-e154de1876f1"
      },
      "execution_count": 26,
      "outputs": [
        {
          "output_type": "stream",
          "name": "stdout",
          "text": [
            "tf.Tensor(\n",
            "[[[[0. 0. 0.]\n",
            "   [0. 0. 0.]\n",
            "   [0. 0. 0.]\n",
            "   ...\n",
            "   [0. 0. 0.]\n",
            "   [0. 0. 0.]\n",
            "   [0. 0. 0.]]\n",
            "\n",
            "  [[0. 0. 0.]\n",
            "   [0. 0. 0.]\n",
            "   [0. 0. 0.]\n",
            "   ...\n",
            "   [0. 0. 0.]\n",
            "   [0. 0. 0.]\n",
            "   [0. 0. 0.]]\n",
            "\n",
            "  [[0. 0. 0.]\n",
            "   [0. 0. 0.]\n",
            "   [0. 0. 0.]\n",
            "   ...\n",
            "   [0. 0. 0.]\n",
            "   [0. 0. 0.]\n",
            "   [0. 0. 0.]]\n",
            "\n",
            "  ...\n",
            "\n",
            "  [[0. 0. 0.]\n",
            "   [0. 0. 0.]\n",
            "   [0. 0. 0.]\n",
            "   ...\n",
            "   [0. 0. 0.]\n",
            "   [0. 0. 0.]\n",
            "   [0. 0. 0.]]\n",
            "\n",
            "  [[0. 0. 0.]\n",
            "   [0. 0. 0.]\n",
            "   [0. 0. 0.]\n",
            "   ...\n",
            "   [0. 0. 0.]\n",
            "   [0. 0. 0.]\n",
            "   [0. 0. 0.]]\n",
            "\n",
            "  [[0. 0. 0.]\n",
            "   [0. 0. 0.]\n",
            "   [0. 0. 0.]\n",
            "   ...\n",
            "   [0. 0. 0.]\n",
            "   [0. 0. 0.]\n",
            "   [0. 0. 0.]]]\n",
            "\n",
            "\n",
            " [[[0. 0. 0.]\n",
            "   [0. 0. 0.]\n",
            "   [0. 0. 0.]\n",
            "   ...\n",
            "   [0. 0. 0.]\n",
            "   [0. 0. 0.]\n",
            "   [0. 0. 0.]]\n",
            "\n",
            "  [[0. 0. 0.]\n",
            "   [0. 0. 0.]\n",
            "   [0. 0. 0.]\n",
            "   ...\n",
            "   [0. 0. 0.]\n",
            "   [0. 0. 0.]\n",
            "   [0. 0. 0.]]\n",
            "\n",
            "  [[0. 0. 0.]\n",
            "   [0. 0. 0.]\n",
            "   [0. 0. 0.]\n",
            "   ...\n",
            "   [0. 0. 0.]\n",
            "   [0. 0. 0.]\n",
            "   [0. 0. 0.]]\n",
            "\n",
            "  ...\n",
            "\n",
            "  [[0. 0. 0.]\n",
            "   [0. 0. 0.]\n",
            "   [0. 0. 0.]\n",
            "   ...\n",
            "   [0. 0. 0.]\n",
            "   [0. 0. 0.]\n",
            "   [0. 0. 0.]]\n",
            "\n",
            "  [[0. 0. 0.]\n",
            "   [0. 0. 0.]\n",
            "   [0. 0. 0.]\n",
            "   ...\n",
            "   [0. 0. 0.]\n",
            "   [0. 0. 0.]\n",
            "   [0. 0. 0.]]\n",
            "\n",
            "  [[0. 0. 0.]\n",
            "   [0. 0. 0.]\n",
            "   [0. 0. 0.]\n",
            "   ...\n",
            "   [0. 0. 0.]\n",
            "   [0. 0. 0.]\n",
            "   [0. 0. 0.]]]\n",
            "\n",
            "\n",
            " [[[0. 0. 0.]\n",
            "   [0. 0. 0.]\n",
            "   [0. 0. 0.]\n",
            "   ...\n",
            "   [0. 0. 0.]\n",
            "   [0. 0. 0.]\n",
            "   [0. 0. 0.]]\n",
            "\n",
            "  [[0. 0. 0.]\n",
            "   [0. 0. 0.]\n",
            "   [0. 0. 0.]\n",
            "   ...\n",
            "   [0. 0. 0.]\n",
            "   [0. 0. 0.]\n",
            "   [0. 0. 0.]]\n",
            "\n",
            "  [[0. 0. 0.]\n",
            "   [0. 0. 0.]\n",
            "   [0. 0. 0.]\n",
            "   ...\n",
            "   [0. 0. 0.]\n",
            "   [0. 0. 0.]\n",
            "   [0. 0. 0.]]\n",
            "\n",
            "  ...\n",
            "\n",
            "  [[0. 0. 0.]\n",
            "   [0. 0. 0.]\n",
            "   [0. 0. 0.]\n",
            "   ...\n",
            "   [0. 0. 0.]\n",
            "   [0. 0. 0.]\n",
            "   [0. 0. 0.]]\n",
            "\n",
            "  [[0. 0. 0.]\n",
            "   [0. 0. 0.]\n",
            "   [0. 0. 0.]\n",
            "   ...\n",
            "   [0. 0. 0.]\n",
            "   [0. 0. 0.]\n",
            "   [0. 0. 0.]]\n",
            "\n",
            "  [[0. 0. 0.]\n",
            "   [0. 0. 0.]\n",
            "   [0. 0. 0.]\n",
            "   ...\n",
            "   [0. 0. 0.]\n",
            "   [0. 0. 0.]\n",
            "   [0. 0. 0.]]]\n",
            "\n",
            "\n",
            " ...\n",
            "\n",
            "\n",
            " [[[0. 0. 0.]\n",
            "   [0. 0. 0.]\n",
            "   [0. 0. 0.]\n",
            "   ...\n",
            "   [0. 0. 0.]\n",
            "   [0. 0. 0.]\n",
            "   [0. 0. 0.]]\n",
            "\n",
            "  [[0. 0. 0.]\n",
            "   [0. 0. 0.]\n",
            "   [0. 0. 0.]\n",
            "   ...\n",
            "   [0. 0. 0.]\n",
            "   [0. 0. 0.]\n",
            "   [0. 0. 0.]]\n",
            "\n",
            "  [[0. 0. 0.]\n",
            "   [0. 0. 0.]\n",
            "   [0. 0. 0.]\n",
            "   ...\n",
            "   [0. 0. 0.]\n",
            "   [0. 0. 0.]\n",
            "   [0. 0. 0.]]\n",
            "\n",
            "  ...\n",
            "\n",
            "  [[0. 0. 0.]\n",
            "   [0. 0. 0.]\n",
            "   [0. 0. 0.]\n",
            "   ...\n",
            "   [0. 0. 0.]\n",
            "   [0. 0. 0.]\n",
            "   [0. 0. 0.]]\n",
            "\n",
            "  [[0. 0. 0.]\n",
            "   [0. 0. 0.]\n",
            "   [0. 0. 0.]\n",
            "   ...\n",
            "   [0. 0. 0.]\n",
            "   [0. 0. 0.]\n",
            "   [0. 0. 0.]]\n",
            "\n",
            "  [[0. 0. 0.]\n",
            "   [0. 0. 0.]\n",
            "   [0. 0. 0.]\n",
            "   ...\n",
            "   [0. 0. 0.]\n",
            "   [0. 0. 0.]\n",
            "   [0. 0. 0.]]]\n",
            "\n",
            "\n",
            " [[[0. 0. 0.]\n",
            "   [0. 0. 0.]\n",
            "   [0. 0. 0.]\n",
            "   ...\n",
            "   [0. 0. 0.]\n",
            "   [0. 0. 0.]\n",
            "   [0. 0. 0.]]\n",
            "\n",
            "  [[0. 0. 0.]\n",
            "   [0. 0. 0.]\n",
            "   [0. 0. 0.]\n",
            "   ...\n",
            "   [0. 0. 0.]\n",
            "   [0. 0. 0.]\n",
            "   [0. 0. 0.]]\n",
            "\n",
            "  [[0. 0. 0.]\n",
            "   [0. 0. 0.]\n",
            "   [0. 0. 0.]\n",
            "   ...\n",
            "   [0. 0. 0.]\n",
            "   [0. 0. 0.]\n",
            "   [0. 0. 0.]]\n",
            "\n",
            "  ...\n",
            "\n",
            "  [[0. 0. 0.]\n",
            "   [0. 0. 0.]\n",
            "   [0. 0. 0.]\n",
            "   ...\n",
            "   [0. 0. 0.]\n",
            "   [0. 0. 0.]\n",
            "   [0. 0. 0.]]\n",
            "\n",
            "  [[0. 0. 0.]\n",
            "   [0. 0. 0.]\n",
            "   [0. 0. 0.]\n",
            "   ...\n",
            "   [0. 0. 0.]\n",
            "   [0. 0. 0.]\n",
            "   [0. 0. 0.]]\n",
            "\n",
            "  [[0. 0. 0.]\n",
            "   [0. 0. 0.]\n",
            "   [0. 0. 0.]\n",
            "   ...\n",
            "   [0. 0. 0.]\n",
            "   [0. 0. 0.]\n",
            "   [0. 0. 0.]]]\n",
            "\n",
            "\n",
            " [[[0. 0. 0.]\n",
            "   [0. 0. 0.]\n",
            "   [0. 0. 0.]\n",
            "   ...\n",
            "   [0. 0. 0.]\n",
            "   [0. 0. 0.]\n",
            "   [0. 0. 0.]]\n",
            "\n",
            "  [[0. 0. 0.]\n",
            "   [0. 0. 0.]\n",
            "   [0. 0. 0.]\n",
            "   ...\n",
            "   [0. 0. 0.]\n",
            "   [0. 0. 0.]\n",
            "   [0. 0. 0.]]\n",
            "\n",
            "  [[0. 0. 0.]\n",
            "   [0. 0. 0.]\n",
            "   [0. 0. 0.]\n",
            "   ...\n",
            "   [0. 0. 0.]\n",
            "   [0. 0. 0.]\n",
            "   [0. 0. 0.]]\n",
            "\n",
            "  ...\n",
            "\n",
            "  [[0. 0. 0.]\n",
            "   [0. 0. 0.]\n",
            "   [0. 0. 0.]\n",
            "   ...\n",
            "   [0. 0. 0.]\n",
            "   [0. 0. 0.]\n",
            "   [0. 0. 0.]]\n",
            "\n",
            "  [[0. 0. 0.]\n",
            "   [0. 0. 0.]\n",
            "   [0. 0. 0.]\n",
            "   ...\n",
            "   [0. 0. 0.]\n",
            "   [0. 0. 0.]\n",
            "   [0. 0. 0.]]\n",
            "\n",
            "  [[0. 0. 0.]\n",
            "   [0. 0. 0.]\n",
            "   [0. 0. 0.]\n",
            "   ...\n",
            "   [0. 0. 0.]\n",
            "   [0. 0. 0.]\n",
            "   [0. 0. 0.]]]], shape=(10, 256, 256, 3), dtype=float32)\n"
          ]
        }
      ]
    },
    {
      "cell_type": "code",
      "source": [
        "row_vector = matrix[1]\n",
        "column_vector = matrix[:,1]\n",
        "scalar = matrix[0, 1]\n",
        "\n",
        "print(\"`row_vector`: {}\".format(row_vector.numpy()))\n",
        "print(\"`column_vector`: {}\".format(column_vector.numpy()))\n",
        "print(\"`scalar`: {}\".format(scalar.numpy()))"
      ],
      "metadata": {
        "colab": {
          "base_uri": "https://localhost:8080/"
        },
        "id": "DceN1igNCf8r",
        "outputId": "685f3337-6806-4543-80e8-e8df16b38ac0"
      },
      "execution_count": 27,
      "outputs": [
        {
          "output_type": "stream",
          "name": "stdout",
          "text": [
            "`row_vector`: [1 2 3]\n",
            "`column_vector`: [2 2]\n",
            "`scalar`: 2\n"
          ]
        }
      ]
    },
    {
      "cell_type": "code",
      "source": [
        "a=tf.constant(15)\n",
        "b=tf.constant(61)\n",
        "\n",
        "c1=tf.add(a,b)\n",
        "c2=a+b#tensorflow override this instruction and convert it in to a tensor operation\n",
        "print(c1)\n",
        "print(c2)"
      ],
      "metadata": {
        "colab": {
          "base_uri": "https://localhost:8080/"
        },
        "id": "ET5LoOcvCyvR",
        "outputId": "182d68a2-1c61-4c24-9c58-935b057ea69e"
      },
      "execution_count": 29,
      "outputs": [
        {
          "output_type": "stream",
          "name": "stdout",
          "text": [
            "tf.Tensor(76, shape=(), dtype=int32)\n",
            "tf.Tensor(76, shape=(), dtype=int32)\n"
          ]
        }
      ]
    },
    {
      "cell_type": "code",
      "source": [
        "### Defining Tensor computations ###\n",
        "\n",
        "# Construct a simple computation function\n",
        "def func(a,b):\n",
        "  '''TODO: Define the operation for c, d, e (use tf.add, tf.subtract, tf.multiply).'''\n",
        "  c =tf.add(a,b)\n",
        "  d = tf.subtract(b,1)\n",
        "  e =tf.multiply(c,d)\n",
        "  return e\n",
        "     "
      ],
      "metadata": {
        "id": "OeI2NNyuDdCZ"
      },
      "execution_count": 33,
      "outputs": []
    },
    {
      "cell_type": "code",
      "source": [
        "# Consider example values for a,b\n",
        "a, b = 1.5, 2.5\n",
        "# Execute the computation\n",
        "e_out = func(a,b)\n",
        "print(e_out)"
      ],
      "metadata": {
        "colab": {
          "base_uri": "https://localhost:8080/"
        },
        "id": "QKh_6xu2D8la",
        "outputId": "92765e05-d967-4759-ded3-6617f5af8fc3"
      },
      "execution_count": 36,
      "outputs": [
        {
          "output_type": "stream",
          "name": "stdout",
          "text": [
            "tf.Tensor(6.0, shape=(), dtype=float32)\n"
          ]
        }
      ]
    },
    {
      "cell_type": "markdown",
      "source": [
        "**Neural networks in TensorFlow**"
      ],
      "metadata": {
        "id": "gwic2jzXEbaN"
      }
    },
    {
      "cell_type": "markdown",
      "source": [
        "We can also define neural networks in TensorFlow. TensorFlow uses a high-level API called Keras that provides a powerful, intuitive framework for building and training deep learning models."
      ],
      "metadata": {
        "id": "N99u5GP_Eiwu"
      }
    },
    {
      "cell_type": "markdown",
      "source": [
        "**Dense_Layer code in NEURAL NETWORK**"
      ],
      "metadata": {
        "id": "CfF-KHslQoQ5"
      }
    },
    {
      "cell_type": "code",
      "source": [
        "### Defining a network Layer ###\n",
        "\n",
        "# n_output_nodes: number of output nodes\n",
        "# input_shape: shape of the input\n",
        "# x: input to the layer\n",
        "\n",
        "class OurDenseLayer(tf.keras.layers.Layer):\n",
        "  def __init__(self,n_output_nodes):\n",
        "    super(OurDenseLayer,self).__init__()\n",
        "    self.n_output_nodes=n_output_nodes\n",
        "  \n",
        "\n",
        "  def build(self,input_shape):\n",
        "    d=int(input_shape[-1]) # taking the column of the input shape\n",
        "    self.W=self.add_weight('weight',shape=[d,self.n_output_nodes]) # if there are 2 inputs nodes(columns) and 3 output node than each input node will have a 3 w's\n",
        "    self.b=self.add_weight('bias',shape=[1,self.n_output_nodes])\n",
        "\n",
        "\n",
        "  def call(self,x):\n",
        "\n",
        "    z=tf.linalg.matmul(x,self.W) + self.b\n",
        "\n",
        "    y=tf.math.sigmoid(z)\n",
        "\n",
        "    return y\n",
        "\n",
        "tf.random.set_seed(1)\n",
        "layer=OurDenseLayer(3)\n",
        "layer.build((1,2))\n",
        "x_input=tf.constant([[1,2.]],shape=(1,2))\n",
        "y=layer.call(x_input)\n",
        "\n",
        "\n",
        "print(y.numpy())\n",
        "\n"
      ],
      "metadata": {
        "colab": {
          "base_uri": "https://localhost:8080/"
        },
        "id": "ulPJ6Yh8D-PM",
        "outputId": "7fdd31e8-a1d0-466e-b266-b0d0b49a9a0d"
      },
      "execution_count": 43,
      "outputs": [
        {
          "output_type": "stream",
          "name": "stdout",
          "text": [
            "[[0.7399751  0.44709632 0.9608201 ]]\n"
          ]
        }
      ]
    },
    {
      "cell_type": "markdown",
      "source": [
        "**SEQUENTIAL_LAYER API CODE IN KERAS**"
      ],
      "metadata": {
        "id": "OMXmWzr-RHYM"
      }
    },
    {
      "cell_type": "markdown",
      "source": [
        " With the Sequential API, you can readily create neural networks by stacking together layers like building blocks.\n",
        "\n"
      ],
      "metadata": {
        "id": "QQZJEcT_RL3O"
      }
    },
    {
      "cell_type": "code",
      "source": [
        "from tensorflow.keras import Sequential\n",
        "from tensorflow.keras.layers import Dense\n",
        "\n",
        "#defining the number of output node\n",
        "n_output_nodes=3\n",
        "\n",
        "#defining the type of model we will be using\n",
        "model=Sequential()\n",
        "\n",
        "dense_layer=Dense(n_output_nodes,activation='sigmoid')\n",
        "\n",
        "model.add(dense_layer)\n"
      ],
      "metadata": {
        "id": "CPwkH2jkGQu_"
      },
      "execution_count": 44,
      "outputs": []
    },
    {
      "cell_type": "code",
      "source": [
        "x_input=tf.constant([[1,2.]],shape=(1,2))\n",
        "\n",
        "model_output=model(x_input).numpy()\n",
        "print(model_output)"
      ],
      "metadata": {
        "colab": {
          "base_uri": "https://localhost:8080/"
        },
        "id": "GeZUuVKUGtK5",
        "outputId": "9929ba92-3f85-4b03-b7c6-befebba5ab9e"
      },
      "execution_count": 47,
      "outputs": [
        {
          "output_type": "stream",
          "name": "stdout",
          "text": [
            "[[0.77951616 0.32650504 0.74997336]]\n"
          ]
        }
      ]
    },
    {
      "cell_type": "markdown",
      "source": [
        "In addition to defining models using the Sequential API, we can also define neural networks by directly **subclassing the Model class**, which groups layers together to enable model training and inference. The Model class captures what we refer to as a \"model\" or as a \"network\". Using Subclassing, we can create a class for our model, and then define the forward pass through the network using the call function. Subclassing affords the flexibility to define custom layers, custom training loops, custom activation functions, and custom models. Let's define the same neural network as above now using Subclassing rather than the Sequential model."
      ],
      "metadata": {
        "id": "uBFhrprfUE6L"
      }
    },
    {
      "cell_type": "code",
      "source": [
        "from tensorflow.keras import Model\n",
        "\n",
        "class SubclassModel(tf.keras.Model):\n",
        "\n",
        "  def __init__(self,n_output_nodes):\n",
        "    super(SubclassModel,self).__init__()\n",
        "    #defining the single dense layer of our model\n",
        "    self.dense_layer=Dense(n_output_nodes,activation='sigmoid')\n",
        "\n",
        "  def call(self,input):\n",
        "    return self.dense_layer(input)"
      ],
      "metadata": {
        "id": "Vmziig4GTMND"
      },
      "execution_count": 50,
      "outputs": []
    },
    {
      "cell_type": "code",
      "source": [
        "n_output_nodes = 3\n",
        "model = SubclassModel(n_output_nodes)\n",
        "\n",
        "x_input = tf.constant([[1,2.]], shape=(1,2))\n",
        "\n",
        "print(model.call(x_input).numpy())\n",
        "     "
      ],
      "metadata": {
        "colab": {
          "base_uri": "https://localhost:8080/"
        },
        "id": "euX2m-7oYMBb",
        "outputId": "db19b6fd-7182-4347-9be9-42204125be73"
      },
      "execution_count": 53,
      "outputs": [
        {
          "output_type": "stream",
          "name": "stdout",
          "text": [
            "[[0.922794   0.28081274 0.85635036]]\n"
          ]
        }
      ]
    },
    {
      "cell_type": "markdown",
      "source": [
        "Importantly, Subclassing affords us a lot of flexibility to define custom models. For example, we can use boolean arguments in the call function to specify different network behaviors, for example different behaviors during training and inference. Let's suppose under some instances we want our network to simply output the input, without any perturbation. We define a boolean argument isidentity to control this behavior:"
      ],
      "metadata": {
        "id": "PVzlnsS1XGiD"
      }
    },
    {
      "cell_type": "code",
      "source": [
        "class IdentityModel(tf.keras.Model):\n",
        "  \n",
        "   def __init__(self,n_output_nodes):\n",
        "     super(IdentityModel,self).__init__()\n",
        "     self.Dense_layer=Dense(n_output_nodes,activation='sigmoid')\n",
        "\n",
        "   def call(self,inputs,isidentity=False):\n",
        "     x=self.Dense_layer(inputs)\n",
        "     if isidentity==True:\n",
        "       return inputs.numpy()\n",
        "     else:\n",
        "        return self.Dense_layer(inputs)\n",
        "\n"
      ],
      "metadata": {
        "id": "-BfUAmiuVbPq"
      },
      "execution_count": 61,
      "outputs": []
    },
    {
      "cell_type": "code",
      "source": [
        "n_output_nodes = 3\n",
        "model = IdentityModel(n_output_nodes)\n",
        "\n",
        "x_input = tf.constant([[1,2.]], shape=(1,2))\n",
        "#to pass the input into the model and call with and without the identity\n",
        "out_activate = model.call(x_input)\n",
        "out_identity = model.call(x_input,isidentity=True)\n",
        "print(\"Network output with activation: {}; network identity output: {}\".format(out_activate,out_identity))"
      ],
      "metadata": {
        "colab": {
          "base_uri": "https://localhost:8080/"
        },
        "id": "lB2h8fqAYZ_r",
        "outputId": "e603d985-ccaa-42ee-b23e-8c196aedca9a"
      },
      "execution_count": 69,
      "outputs": [
        {
          "output_type": "stream",
          "name": "stdout",
          "text": [
            "Network output with activation: [[0.8726766 0.2958583 0.4963651]]; network identity output: [[1. 2.]]\n"
          ]
        }
      ]
    },
    {
      "cell_type": "markdown",
      "source": [
        "## **Automatic differentiation in TensorFlow**"
      ],
      "metadata": {
        "id": "tvo-s-uUa-xB"
      }
    },
    {
      "cell_type": "markdown",
      "source": [
        "Automatic differentiation is one of the most important parts of TensorFlow and is the backbone of training with backpropagation. We will use the TensorFlow GradientTape **tf.GradientTape** to trace operations for computing gradients later.\n",
        "\n",
        "When a forward pass is made through the network,**all forward-pass operations get recorded to a \"tape\"; then, to compute the gradient, the tape is played backwards. By default, the tape is discarded after it is played backwards; this means that a particular tf.GradientTape can only compute one gradient**, and subsequent calls throw a runtime error. However, we can compute multiple gradients over the same computation by creating a **persistent gradient tape.**\n",
        "\n",
        "First, we will look at how we can compute gradients using GradientTape and access them for computation. We define the simple function **y=x^2**\n",
        " and compute the gradient:"
      ],
      "metadata": {
        "id": "X8KVc9eGbcFT"
      }
    },
    {
      "cell_type": "code",
      "source": [
        "x=tf.Variable(3.0)\n",
        "\n",
        "with tf.GradientTape() as tape:\n",
        "  #define the function\n",
        "  y=x*x\n",
        "\n",
        "dy_dx=tape.gradient(y,x)\n",
        "\n",
        "assert dy_dx.numpy()==6.0\n"
      ],
      "metadata": {
        "id": "8tmpoOUhZLMs"
      },
      "execution_count": 71,
      "outputs": []
    },
    {
      "cell_type": "markdown",
      "source": [
        "1.   WE PERFROM SGD FOR DEEP LEARNING\n",
        "2.   L=(X-X_f)^2\n",
        "3.   L IS TRHE LOSS WE ARE TRYING TO MINIMISE\n",
        "\n",
        "\n"
      ],
      "metadata": {
        "id": "fNRTnPIaeAuI"
      }
    },
    {
      "cell_type": "code",
      "source": [
        "#Initialize a random value for our initial x\n",
        "x=tf.Variable([tf.random.normal([1])])\n",
        "print('Initializing x={}'.format(x.numpy()))\n",
        "\n",
        "learning_rate=1e-2\n",
        "history=[]\n",
        "#defining the target value\n",
        "x_f=4\n",
        "\n",
        "#computing the derivative of the loss wrt to the x and performing SGD\n",
        "\n",
        "for i in range(500):\n",
        "  with tf.GradientTape() as tape:\n",
        "    loss=(x-x_f)**2\n",
        "\n",
        "#loss minimization using gradientTape\n",
        "  gradient=tape.gradient(loss,x)\n",
        "  new_x=x-learning_rate*gradient\n",
        "  x.assign(new_x)\n",
        "  history.append(x.numpy()[0])#[0] convert the history from 2-d array to 0-d array\n",
        "\n",
        "\n",
        "# Plot the evolution of x as we optimize towards x_f\n",
        "plt.plot(history)\n",
        "plt.plot([0, 500],[x_f,x_f])\n",
        "plt.legend(('Predicted', 'True'))\n",
        "plt.xlabel('Iteration')\n",
        "plt.ylabel('x value')\n",
        "     "
      ],
      "metadata": {
        "colab": {
          "base_uri": "https://localhost:8080/",
          "height": 484
        },
        "id": "-LmFHHnjcWH4",
        "outputId": "e888139e-c5e5-4d86-c573-64c1a27134d1"
      },
      "execution_count": 80,
      "outputs": [
        {
          "output_type": "stream",
          "name": "stdout",
          "text": [
            "Initializing x=[[0.6118191]]\n"
          ]
        },
        {
          "output_type": "execute_result",
          "data": {
            "text/plain": [
              "Text(0, 0.5, 'x value')"
            ]
          },
          "metadata": {},
          "execution_count": 80
        },
        {
          "output_type": "display_data",
          "data": {
            "text/plain": [
              "<Figure size 640x480 with 1 Axes>"
            ],
            "image/png": "[encoded data removed]"
          },
          "metadata": {}
        }
      ]
    },
    {
      "cell_type": "code",
      "source": [
        "history"
      ],
      "metadata": {
        "colab": {
          "base_uri": "https://localhost:8080/"
        },
        "id": "h-oKXJoQfSxj",
        "outputId": "061ae8a8-c170-40bd-954c-e4e2cccb6b2b"
      },
      "execution_count": 77,
      "outputs": [
        {
          "output_type": "execute_result",
          "data": {
            "text/plain": [
              "[array([[-0.367872]], dtype=float32),\n",
              " array([[-0.28051457]], dtype=float32),\n",
              " array([[-0.19490427]], dtype=float32),\n",
              " array([[-0.11100619]], dtype=float32),\n",
              " array([[-0.02878606]], dtype=float32),\n",
              " array([[0.05178966]], dtype=float32),\n",
              " array([[0.13075386]], dtype=float32),\n",
              " array([[0.2081388]], dtype=float32),\n",
              " array([[0.28397602]], dtype=float32),\n",
              " array([[0.3582965]], dtype=float32),\n",
              " array([[0.4311306]], dtype=float32),\n",
              " array([[0.502508]], dtype=float32),\n",
              " array([[0.57245785]], dtype=float32),\n",
              " array([[0.6410087]], dtype=float32),\n",
              " array([[0.70818853]], dtype=float32),\n",
              " array([[0.7740248]], dtype=float32),\n",
              " array([[0.8385443]], dtype=float32),\n",
              " array([[0.90177345]], dtype=float32),\n",
              " array([[0.96373796]], dtype=float32),\n",
              " array([[1.0244632]], dtype=float32),\n",
              " array([[1.0839739]], dtype=float32),\n",
              " array([[1.1422944]], dtype=float32),\n",
              " array([[1.1994485]], dtype=float32),\n",
              " array([[1.2554595]], dtype=float32),\n",
              " array([[1.3103503]], dtype=float32),\n",
              " array([[1.3641433]], dtype=float32),\n",
              " array([[1.4168603]], dtype=float32),\n",
              " array([[1.4685231]], dtype=float32),\n",
              " array([[1.5191526]], dtype=float32),\n",
              " array([[1.5687696]], dtype=float32),\n",
              " array([[1.6173942]], dtype=float32),\n",
              " array([[1.6650463]], dtype=float32),\n",
              " array([[1.7117454]], dtype=float32),\n",
              " array([[1.7575104]], dtype=float32),\n",
              " array([[1.8023602]], dtype=float32),\n",
              " array([[1.846313]], dtype=float32),\n",
              " array([[1.8893868]], dtype=float32),\n",
              " array([[1.931599]], dtype=float32),\n",
              " array([[1.972967]], dtype=float32),\n",
              " array([[2.0135076]], dtype=float32),\n",
              " array([[2.0532374]], dtype=float32),\n",
              " array([[2.0921726]], dtype=float32),\n",
              " array([[2.1303291]], dtype=float32),\n",
              " array([[2.1677225]], dtype=float32),\n",
              " array([[2.204368]], dtype=float32),\n",
              " array([[2.2402809]], dtype=float32),\n",
              " array([[2.2754753]], dtype=float32),\n",
              " array([[2.3099658]], dtype=float32),\n",
              " array([[2.3437665]], dtype=float32),\n",
              " array([[2.3768911]], dtype=float32),\n",
              " array([[2.4093533]], dtype=float32),\n",
              " array([[2.4411662]], dtype=float32),\n",
              " array([[2.4723427]], dtype=float32),\n",
              " array([[2.5028958]], dtype=float32),\n",
              " array([[2.5328379]], dtype=float32),\n",
              " array([[2.562181]], dtype=float32),\n",
              " array([[2.5909374]], dtype=float32),\n",
              " array([[2.6191187]], dtype=float32),\n",
              " array([[2.6467364]], dtype=float32),\n",
              " array([[2.6738017]], dtype=float32),\n",
              " array([[2.7003257]], dtype=float32),\n",
              " array([[2.7263193]], dtype=float32),\n",
              " array([[2.751793]], dtype=float32),\n",
              " array([[2.776757]], dtype=float32),\n",
              " array([[2.8012218]], dtype=float32),\n",
              " array([[2.8251975]], dtype=float32),\n",
              " array([[2.8486936]], dtype=float32),\n",
              " array([[2.8717198]], dtype=float32),\n",
              " array([[2.8942854]], dtype=float32),\n",
              " array([[2.9163997]], dtype=float32),\n",
              " array([[2.9380717]], dtype=float32),\n",
              " array([[2.9593103]], dtype=float32),\n",
              " array([[2.980124]], dtype=float32),\n",
              " array([[3.0005214]], dtype=float32),\n",
              " array([[3.020511]], dtype=float32),\n",
              " array([[3.0401006]], dtype=float32),\n",
              " array([[3.0592985]], dtype=float32),\n",
              " array([[3.0781126]], dtype=float32),\n",
              " array([[3.0965505]], dtype=float32),\n",
              " array([[3.1146195]], dtype=float32),\n",
              " array([[3.132327]], dtype=float32),\n",
              " array([[3.1496806]], dtype=float32),\n",
              " array([[3.166687]], dtype=float32),\n",
              " array([[3.1833532]], dtype=float32),\n",
              " array([[3.199686]], dtype=float32),\n",
              " array([[3.2156923]], dtype=float32),\n",
              " array([[3.2313786]], dtype=float32),\n",
              " array([[3.246751]], dtype=float32),\n",
              " array([[3.261816]], dtype=float32),\n",
              " array([[3.2765796]], dtype=float32),\n",
              " array([[3.291048]], dtype=float32),\n",
              " array([[3.305227]], dtype=float32),\n",
              " array([[3.3191226]], dtype=float32),\n",
              " array([[3.33274]], dtype=float32),\n",
              " array([[3.3460853]], dtype=float32),\n",
              " array([[3.3591635]], dtype=float32),\n",
              " array([[3.3719802]], dtype=float32),\n",
              " array([[3.3845406]], dtype=float32),\n",
              " array([[3.3968496]], dtype=float32),\n",
              " array([[3.4089127]], dtype=float32),\n",
              " array([[3.4207344]], dtype=float32),\n",
              " array([[3.4323196]], dtype=float32),\n",
              " array([[3.4436731]], dtype=float32),\n",
              " array([[3.4547997]], dtype=float32),\n",
              " array([[3.4657037]], dtype=float32),\n",
              " array([[3.4763896]], dtype=float32),\n",
              " array([[3.486862]], dtype=float32),\n",
              " array([[3.4971247]], dtype=float32),\n",
              " array([[3.5071821]], dtype=float32),\n",
              " array([[3.5170386]], dtype=float32),\n",
              " array([[3.5266979]], dtype=float32),\n",
              " array([[3.5361638]], dtype=float32),\n",
              " array([[3.5454404]], dtype=float32),\n",
              " array([[3.5545316]], dtype=float32),\n",
              " array([[3.563441]], dtype=float32),\n",
              " array([[3.5721722]], dtype=float32),\n",
              " array([[3.5807288]], dtype=float32),\n",
              " array([[3.5891142]], dtype=float32),\n",
              " array([[3.597332]], dtype=float32),\n",
              " array([[3.6053853]], dtype=float32),\n",
              " array([[3.6132777]], dtype=float32),\n",
              " array([[3.6210122]], dtype=float32),\n",
              " array([[3.628592]], dtype=float32),\n",
              " array([[3.6360202]], dtype=float32),\n",
              " array([[3.6432998]], dtype=float32),\n",
              " array([[3.6504338]], dtype=float32),\n",
              " array([[3.6574252]], dtype=float32),\n",
              " array([[3.6642766]], dtype=float32),\n",
              " array([[3.6709912]], dtype=float32),\n",
              " array([[3.6775713]], dtype=float32),\n",
              " array([[3.6840198]], dtype=float32),\n",
              " array([[3.6903393]], dtype=float32),\n",
              " array([[3.6965325]], dtype=float32),\n",
              " array([[3.702602]], dtype=float32),\n",
              " array([[3.70855]], dtype=float32),\n",
              " array([[3.714379]], dtype=float32),\n",
              " array([[3.7200916]], dtype=float32),\n",
              " array([[3.7256896]], dtype=float32),\n",
              " array([[3.731176]], dtype=float32),\n",
              " array([[3.7365525]], dtype=float32),\n",
              " array([[3.7418215]], dtype=float32),\n",
              " array([[3.7469852]], dtype=float32),\n",
              " array([[3.7520454]], dtype=float32),\n",
              " array([[3.7570045]], dtype=float32),\n",
              " array([[3.7618644]], dtype=float32),\n",
              " array([[3.766627]], dtype=float32),\n",
              " array([[3.7712946]], dtype=float32),\n",
              " array([[3.7758687]], dtype=float32),\n",
              " array([[3.7803512]], dtype=float32),\n",
              " array([[3.784744]], dtype=float32),\n",
              " array([[3.7890491]], dtype=float32),\n",
              " array([[3.7932682]], dtype=float32),\n",
              " array([[3.7974029]], dtype=float32),\n",
              " array([[3.8014548]], dtype=float32),\n",
              " array([[3.8054256]], dtype=float32),\n",
              " array([[3.809317]], dtype=float32),\n",
              " array([[3.8131309]], dtype=float32),\n",
              " array([[3.8168683]], dtype=float32),\n",
              " array([[3.820531]], dtype=float32),\n",
              " array([[3.8241203]], dtype=float32),\n",
              " array([[3.827638]], dtype=float32),\n",
              " array([[3.8310852]], dtype=float32),\n",
              " array([[3.8344636]], dtype=float32),\n",
              " array([[3.8377743]], dtype=float32),\n",
              " array([[3.8410187]], dtype=float32),\n",
              " array([[3.8441982]], dtype=float32),\n",
              " array([[3.8473144]], dtype=float32),\n",
              " array([[3.850368]], dtype=float32),\n",
              " array([[3.8533607]], dtype=float32),\n",
              " array([[3.8562934]], dtype=float32),\n",
              " array([[3.8591676]], dtype=float32),\n",
              " array([[3.8619843]], dtype=float32),\n",
              " array([[3.8647447]], dtype=float32),\n",
              " array([[3.8674498]], dtype=float32),\n",
              " array([[3.8701007]], dtype=float32),\n",
              " array([[3.8726988]], dtype=float32),\n",
              " array([[3.8752449]], dtype=float32),\n",
              " array([[3.87774]], dtype=float32),\n",
              " array([[3.8801851]], dtype=float32),\n",
              " array([[3.8825815]], dtype=float32),\n",
              " array([[3.88493]], dtype=float32),\n",
              " array([[3.8872313]], dtype=float32),\n",
              " array([[3.8894868]], dtype=float32),\n",
              " array([[3.8916972]], dtype=float32),\n",
              " array([[3.8938632]], dtype=float32),\n",
              " array([[3.8959858]], dtype=float32),\n",
              " array([[3.898066]], dtype=float32),\n",
              " array([[3.9001048]], dtype=float32),\n",
              " array([[3.9021027]], dtype=float32),\n",
              " array([[3.9040606]], dtype=float32),\n",
              " array([[3.9059794]], dtype=float32),\n",
              " array([[3.9078598]], dtype=float32),\n",
              " array([[3.9097025]], dtype=float32),\n",
              " array([[3.9115086]], dtype=float32),\n",
              " array([[3.9132783]], dtype=float32),\n",
              " array([[3.9150128]], dtype=float32),\n",
              " array([[3.9167125]], dtype=float32),\n",
              " array([[3.9183784]], dtype=float32),\n",
              " array([[3.9200108]], dtype=float32),\n",
              " array([[3.9216106]], dtype=float32),\n",
              " array([[3.9231784]], dtype=float32),\n",
              " array([[3.9247148]], dtype=float32),\n",
              " array([[3.9262204]], dtype=float32),\n",
              " array([[3.927696]], dtype=float32),\n",
              " array([[3.929142]], dtype=float32),\n",
              " array([[3.9305592]], dtype=float32),\n",
              " array([[3.931948]], dtype=float32),\n",
              " array([[3.933309]], dtype=float32),\n",
              " array([[3.9346428]], dtype=float32),\n",
              " array([[3.93595]], dtype=float32),\n",
              " array([[3.937231]], dtype=float32),\n",
              " array([[3.9384863]], dtype=float32),\n",
              " array([[3.9397166]], dtype=float32),\n",
              " array([[3.9409223]], dtype=float32),\n",
              " array([[3.9421039]], dtype=float32),\n",
              " array([[3.9432619]], dtype=float32),\n",
              " array([[3.9443967]], dtype=float32),\n",
              " array([[3.9455087]], dtype=float32),\n",
              " array([[3.9465985]], dtype=float32),\n",
              " array([[3.9476666]], dtype=float32),\n",
              " array([[3.9487133]], dtype=float32),\n",
              " array([[3.949739]], dtype=float32),\n",
              " array([[3.9507442]], dtype=float32),\n",
              " array([[3.9517293]], dtype=float32),\n",
              " array([[3.9526947]], dtype=float32),\n",
              " array([[3.9536407]], dtype=float32),\n",
              " array([[3.954568]], dtype=float32),\n",
              " array([[3.9554765]], dtype=float32),\n",
              " array([[3.956367]], dtype=float32),\n",
              " array([[3.9572396]], dtype=float32),\n",
              " array([[3.9580948]], dtype=float32),\n",
              " array([[3.9589329]], dtype=float32),\n",
              " array([[3.9597542]], dtype=float32),\n",
              " array([[3.9605591]], dtype=float32),\n",
              " array([[3.961348]], dtype=float32),\n",
              " array([[3.962121]], dtype=float32),\n",
              " array([[3.9628787]], dtype=float32),\n",
              " array([[3.9636211]], dtype=float32),\n",
              " array([[3.9643488]], dtype=float32),\n",
              " array([[3.965062]], dtype=float32),\n",
              " array([[3.9657607]], dtype=float32),\n",
              " array([[3.9664454]], dtype=float32),\n",
              " array([[3.9671166]], dtype=float32),\n",
              " array([[3.9677742]], dtype=float32),\n",
              " array([[3.9684186]], dtype=float32),\n",
              " array([[3.9690502]], dtype=float32),\n",
              " array([[3.969669]], dtype=float32),\n",
              " array([[3.9702756]], dtype=float32),\n",
              " array([[3.97087]], dtype=float32),\n",
              " array([[3.9714527]], dtype=float32),\n",
              " array([[3.9720237]], dtype=float32),\n",
              " array([[3.9725833]], dtype=float32),\n",
              " array([[3.9731317]], dtype=float32),\n",
              " array([[3.973669]], dtype=float32),\n",
              " array([[3.9741957]], dtype=float32),\n",
              " array([[3.974712]], dtype=float32),\n",
              " array([[3.9752176]], dtype=float32),\n",
              " array([[3.9757133]], dtype=float32),\n",
              " array([[3.976199]], dtype=float32),\n",
              " array([[3.976675]], dtype=float32),\n",
              " array([[3.9771416]], dtype=float32),\n",
              " array([[3.9775987]], dtype=float32),\n",
              " array([[3.9780467]], dtype=float32),\n",
              " array([[3.9784858]], dtype=float32),\n",
              " array([[3.9789162]], dtype=float32),\n",
              " array([[3.979338]], dtype=float32),\n",
              " array([[3.979751]], dtype=float32),\n",
              " array([[3.9801562]], dtype=float32),\n",
              " array([[3.9805532]], dtype=float32),\n",
              " array([[3.980942]], dtype=float32),\n",
              " array([[3.9813232]], dtype=float32),\n",
              " array([[3.9816968]], dtype=float32),\n",
              " array([[3.9820628]], dtype=float32),\n",
              " array([[3.9824216]], dtype=float32),\n",
              " array([[3.9827733]], dtype=float32),\n",
              " array([[3.9831178]], dtype=float32),\n",
              " array([[3.9834554]], dtype=float32),\n",
              " array([[3.9837863]], dtype=float32),\n",
              " array([[3.9841106]], dtype=float32),\n",
              " array([[3.9844284]], dtype=float32),\n",
              " array([[3.9847398]], dtype=float32),\n",
              " array([[3.985045]], dtype=float32),\n",
              " array([[3.9853442]], dtype=float32),\n",
              " array([[3.9856372]], dtype=float32),\n",
              " array([[3.9859245]], dtype=float32),\n",
              " array([[3.986206]], dtype=float32),\n",
              " array([[3.986482]], dtype=float32),\n",
              " array([[3.9867523]], dtype=float32),\n",
              " array([[3.9870172]], dtype=float32),\n",
              " array([[3.9872768]], dtype=float32),\n",
              " array([[3.9875312]], dtype=float32),\n",
              " array([[3.9877806]], dtype=float32),\n",
              " array([[3.988025]], dtype=float32),\n",
              " array([[3.9882646]], dtype=float32),\n",
              " array([[3.9884992]], dtype=float32),\n",
              " array([[3.9887292]], dtype=float32),\n",
              " array([[3.9889545]], dtype=float32),\n",
              " array([[3.9891756]], dtype=float32),\n",
              " array([[3.989392]], dtype=float32),\n",
              " array([[3.9896042]], dtype=float32),\n",
              " array([[3.9898121]], dtype=float32),\n",
              " array([[3.990016]], dtype=float32),\n",
              " array([[3.9902158]], dtype=float32),\n",
              " array([[3.9904115]], dtype=float32),\n",
              " array([[3.9906032]], dtype=float32),\n",
              " array([[3.990791]], dtype=float32),\n",
              " array([[3.9909754]], dtype=float32),\n",
              " array([[3.9911559]], dtype=float32),\n",
              " array([[3.9913328]], dtype=float32),\n",
              " array([[3.991506]], dtype=float32),\n",
              " array([[3.991676]], dtype=float32),\n",
              " array([[3.9918425]], dtype=float32),\n",
              " array([[3.9920056]], dtype=float32),\n",
              " array([[3.9921656]], dtype=float32),\n",
              " array([[3.9923222]], dtype=float32),\n",
              " array([[3.9924757]], dtype=float32),\n",
              " array([[3.9926262]], dtype=float32),\n",
              " array([[3.9927738]], dtype=float32),\n",
              " array([[3.9929183]], dtype=float32),\n",
              " array([[3.9930599]], dtype=float32),\n",
              " array([[3.9931986]], dtype=float32),\n",
              " array([[3.9933348]], dtype=float32),\n",
              " array([[3.993468]], dtype=float32),\n",
              " array([[3.9935987]], dtype=float32),\n",
              " array([[3.9937267]], dtype=float32),\n",
              " array([[3.9938521]], dtype=float32),\n",
              " array([[3.9939752]], dtype=float32),\n",
              " array([[3.9940956]], dtype=float32),\n",
              " array([[3.9942136]], dtype=float32),\n",
              " array([[3.9943292]], dtype=float32),\n",
              " array([[3.9944427]], dtype=float32),\n",
              " array([[3.9945538]], dtype=float32),\n",
              " array([[3.9946628]], dtype=float32),\n",
              " array([[3.9947696]], dtype=float32),\n",
              " array([[3.9948742]], dtype=float32),\n",
              " array([[3.9949768]], dtype=float32),\n",
              " array([[3.9950771]], dtype=float32),\n",
              " array([[3.9951756]], dtype=float32),\n",
              " array([[3.9952722]], dtype=float32),\n",
              " array([[3.9953668]], dtype=float32),\n",
              " array([[3.9954596]], dtype=float32),\n",
              " array([[3.9955504]], dtype=float32),\n",
              " array([[3.9956393]], dtype=float32),\n",
              " array([[3.9957266]], dtype=float32),\n",
              " array([[3.995812]], dtype=float32),\n",
              " array([[3.9958956]], dtype=float32),\n",
              " array([[3.9959776]], dtype=float32),\n",
              " array([[3.996058]], dtype=float32),\n",
              " array([[3.996137]], dtype=float32),\n",
              " array([[3.9962142]], dtype=float32),\n",
              " array([[3.99629]], dtype=float32),\n",
              " array([[3.996364]], dtype=float32),\n",
              " array([[3.9964368]], dtype=float32),\n",
              " array([[3.9965081]], dtype=float32),\n",
              " array([[3.996578]], dtype=float32),\n",
              " array([[3.9966464]], dtype=float32),\n",
              " array([[3.9967134]], dtype=float32),\n",
              " array([[3.9967792]], dtype=float32),\n",
              " array([[3.9968436]], dtype=float32),\n",
              " array([[3.9969068]], dtype=float32),\n",
              " array([[3.9969685]], dtype=float32),\n",
              " array([[3.997029]], dtype=float32),\n",
              " array([[3.9970884]], dtype=float32),\n",
              " array([[3.9971466]], dtype=float32),\n",
              " array([[3.9972036]], dtype=float32),\n",
              " array([[3.9972596]], dtype=float32),\n",
              " array([[3.9973145]], dtype=float32),\n",
              " array([[3.997368]], dtype=float32),\n",
              " array([[3.9974208]], dtype=float32),\n",
              " array([[3.9974723]], dtype=float32),\n",
              " array([[3.9975228]], dtype=float32),\n",
              " array([[3.9975724]], dtype=float32),\n",
              " array([[3.997621]], dtype=float32),\n",
              " array([[3.9976687]], dtype=float32),\n",
              " array([[3.9977155]], dtype=float32),\n",
              " array([[3.9977612]], dtype=float32),\n",
              " array([[3.997806]], dtype=float32),\n",
              " array([[3.99785]], dtype=float32),\n",
              " array([[3.9978929]], dtype=float32),\n",
              " array([[3.997935]], dtype=float32),\n",
              " array([[3.9979763]], dtype=float32),\n",
              " array([[3.9980168]], dtype=float32),\n",
              " array([[3.9980564]], dtype=float32),\n",
              " array([[3.9980953]], dtype=float32),\n",
              " array([[3.9981334]], dtype=float32),\n",
              " array([[3.9981709]], dtype=float32),\n",
              " array([[3.9982073]], dtype=float32),\n",
              " array([[3.998243]], dtype=float32),\n",
              " array([[3.9982781]], dtype=float32),\n",
              " array([[3.9983125]], dtype=float32),\n",
              " array([[3.9983463]], dtype=float32),\n",
              " array([[3.9983795]], dtype=float32),\n",
              " array([[3.998412]], dtype=float32),\n",
              " array([[3.9984436]], dtype=float32),\n",
              " array([[3.9984748]], dtype=float32),\n",
              " array([[3.9985054]], dtype=float32),\n",
              " array([[3.9985352]], dtype=float32),\n",
              " array([[3.9985645]], dtype=float32),\n",
              " array([[3.998593]], dtype=float32),\n",
              " array([[3.9986212]], dtype=float32),\n",
              " array([[3.998649]], dtype=float32),\n",
              " array([[3.9986758]], dtype=float32),\n",
              " array([[3.9987023]], dtype=float32),\n",
              " array([[3.9987283]], dtype=float32),\n",
              " array([[3.9987538]], dtype=float32),\n",
              " array([[3.9987788]], dtype=float32),\n",
              " array([[3.9988031]], dtype=float32),\n",
              " array([[3.998827]], dtype=float32),\n",
              " array([[3.9988503]], dtype=float32),\n",
              " array([[3.9988732]], dtype=float32),\n",
              " array([[3.998896]], dtype=float32),\n",
              " array([[3.998918]], dtype=float32),\n",
              " array([[3.9989398]], dtype=float32),\n",
              " array([[3.998961]], dtype=float32),\n",
              " array([[3.9989817]], dtype=float32),\n",
              " array([[3.999002]], dtype=float32),\n",
              " array([[3.999022]], dtype=float32),\n",
              " array([[3.9990416]], dtype=float32),\n",
              " array([[3.9990606]], dtype=float32),\n",
              " array([[3.9990795]], dtype=float32),\n",
              " array([[3.9990978]], dtype=float32),\n",
              " array([[3.999116]], dtype=float32),\n",
              " array([[3.9991336]], dtype=float32),\n",
              " array([[3.999151]], dtype=float32),\n",
              " array([[3.999168]], dtype=float32),\n",
              " array([[3.9991846]], dtype=float32),\n",
              " array([[3.9992008]], dtype=float32),\n",
              " array([[3.9992168]], dtype=float32),\n",
              " array([[3.9992325]], dtype=float32),\n",
              " array([[3.9992478]], dtype=float32),\n",
              " array([[3.9992628]], dtype=float32),\n",
              " array([[3.9992776]], dtype=float32),\n",
              " array([[3.9992921]], dtype=float32),\n",
              " array([[3.9993062]], dtype=float32),\n",
              " array([[3.99932]], dtype=float32),\n",
              " array([[3.9993336]], dtype=float32),\n",
              " array([[3.999347]], dtype=float32),\n",
              " array([[3.99936]], dtype=float32),\n",
              " array([[3.999373]], dtype=float32),\n",
              " array([[3.9993856]], dtype=float32),\n",
              " array([[3.999398]], dtype=float32),\n",
              " array([[3.9994102]], dtype=float32),\n",
              " array([[3.9994218]], dtype=float32),\n",
              " array([[3.9994335]], dtype=float32),\n",
              " array([[3.999445]], dtype=float32),\n",
              " array([[3.9994562]], dtype=float32),\n",
              " array([[3.9994671]], dtype=float32),\n",
              " array([[3.9994779]], dtype=float32),\n",
              " array([[3.9994884]], dtype=float32),\n",
              " array([[3.9994986]], dtype=float32),\n",
              " array([[3.9995086]], dtype=float32),\n",
              " array([[3.9995184]], dtype=float32),\n",
              " array([[3.999528]], dtype=float32),\n",
              " array([[3.9995375]], dtype=float32),\n",
              " array([[3.9995468]], dtype=float32),\n",
              " array([[3.9995558]], dtype=float32),\n",
              " array([[3.9995646]], dtype=float32),\n",
              " array([[3.9995735]], dtype=float32),\n",
              " array([[3.999582]], dtype=float32),\n",
              " array([[3.9995904]], dtype=float32),\n",
              " array([[3.9995985]], dtype=float32),\n",
              " array([[3.9996066]], dtype=float32),\n",
              " array([[3.9996145]], dtype=float32),\n",
              " array([[3.999622]], dtype=float32),\n",
              " array([[3.9996297]], dtype=float32),\n",
              " array([[3.9996371]], dtype=float32),\n",
              " array([[3.9996443]], dtype=float32),\n",
              " array([[3.9996514]], dtype=float32),\n",
              " array([[3.9996583]], dtype=float32),\n",
              " array([[3.9996653]], dtype=float32),\n",
              " array([[3.999672]], dtype=float32),\n",
              " array([[3.9996786]], dtype=float32),\n",
              " array([[3.999685]], dtype=float32),\n",
              " array([[3.9996912]], dtype=float32),\n",
              " array([[3.9996974]], dtype=float32),\n",
              " array([[3.9997034]], dtype=float32),\n",
              " array([[3.9997094]], dtype=float32),\n",
              " array([[3.999715]], dtype=float32),\n",
              " array([[3.9997208]], dtype=float32),\n",
              " array([[3.9997263]], dtype=float32),\n",
              " array([[3.9997318]], dtype=float32),\n",
              " array([[3.9997373]], dtype=float32),\n",
              " array([[3.9997425]], dtype=float32),\n",
              " array([[3.9997478]], dtype=float32),\n",
              " array([[3.9997528]], dtype=float32),\n",
              " array([[3.9997578]], dtype=float32),\n",
              " array([[3.9997625]], dtype=float32),\n",
              " array([[3.9997673]], dtype=float32),\n",
              " array([[3.999772]], dtype=float32),\n",
              " array([[3.9997766]], dtype=float32),\n",
              " array([[3.9997811]], dtype=float32),\n",
              " array([[3.9997854]], dtype=float32),\n",
              " array([[3.9997897]], dtype=float32),\n",
              " array([[3.999794]], dtype=float32),\n",
              " array([[3.999798]], dtype=float32),\n",
              " array([[3.999802]], dtype=float32),\n",
              " array([[3.9998062]], dtype=float32),\n",
              " array([[3.99981]], dtype=float32),\n",
              " array([[3.9998138]], dtype=float32),\n",
              " array([[3.9998176]], dtype=float32)]"
            ]
          },
          "metadata": {},
          "execution_count": 77
        }
      ]
    },
    {
      "cell_type": "code",
      "source": [],
      "metadata": {
        "id": "EWxWlu0JfVTo"
      },
      "execution_count": null,
      "outputs": []
    }
  ]
}