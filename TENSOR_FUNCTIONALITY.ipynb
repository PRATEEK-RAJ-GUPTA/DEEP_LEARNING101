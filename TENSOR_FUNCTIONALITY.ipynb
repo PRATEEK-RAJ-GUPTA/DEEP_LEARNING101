{
  "nbformat": 4,
  "nbformat_minor": 0,
  "metadata": {
    "colab": {
      "provenance": [],
      "authorship_tag": "ABX9TyPzU+s+oIwyIJJuSPrJnywD",
      "include_colab_link": true
    },
    "kernelspec": {
      "name": "python3",
      "display_name": "Python 3"
    },
    "language_info": {
      "name": "python"
    }
  },
  "cells": [
    {
      "cell_type": "markdown",
      "metadata": {
        "id": "view-in-github",
        "colab_type": "text"
      },
      "source": [
        "<a href=\"https://colab.research.google.com/github/PRATEEK-RAJ-GUPTA/DEEP_LEARNING101/blob/main/TENSOR_FUNCTIONALITY.ipynb\" target=\"_parent\"><img src=\"https://colab.research.google.com/assets/colab-badge.svg\" alt=\"Open In Colab\"/></a>"
      ]
    },
    {
      "cell_type": "markdown",
      "source": [
        "tensor are multidimensional array\n",
        "ordered arrangement of number\n"
      ],
      "metadata": {
        "id": "0_SOEBWCbhhq"
      }
    },
    {
      "cell_type": "code",
      "source": [
        "import tensorflow as tf"
      ],
      "metadata": {
        "id": "T1mQZXapbqAT"
      },
      "execution_count": 1,
      "outputs": []
    },
    {
      "cell_type": "code",
      "source": [
        "tensor_zero_d=tf.constant(2)#a tensor of 1-d having 2 as number\n",
        "print(tensor_zero_d)"
      ],
      "metadata": {
        "colab": {
          "base_uri": "https://localhost:8080/"
        },
        "id": "1ebs4XxVbxnG",
        "outputId": "8cb68681-c4ab-4ba2-aa64-14846a92f7ce"
      },
      "execution_count": 2,
      "outputs": [
        {
          "output_type": "stream",
          "name": "stdout",
          "text": [
            "tf.Tensor(2, shape=(), dtype=int32)\n"
          ]
        }
      ]
    },
    {
      "cell_type": "code",
      "source": [
        "tensor_one_d=tf.constant([2,0,-2])#a tensor of 1-d\n",
        "print(tensor_one_d)"
      ],
      "metadata": {
        "colab": {
          "base_uri": "https://localhost:8080/"
        },
        "id": "nu9CNBPicHj9",
        "outputId": "06d6d3f5-5aa7-4f08-f1c1-fba342fea2fb"
      },
      "execution_count": 3,
      "outputs": [
        {
          "output_type": "stream",
          "name": "stdout",
          "text": [
            "tf.Tensor([ 2  0 -2], shape=(3,), dtype=int32)\n"
          ]
        }
      ]
    },
    {
      "cell_type": "code",
      "source": [
        "tensor_two_d=tf.constant([[2,0,-2],[1,1,1]])#a tensor of 1-d\n",
        "print(tensor_two_d)"
      ],
      "metadata": {
        "colab": {
          "base_uri": "https://localhost:8080/"
        },
        "id": "Mk3GMnZVb_Y_",
        "outputId": "7a7530ab-a22d-4540-cecc-59ffb38bc40f"
      },
      "execution_count": 4,
      "outputs": [
        {
          "output_type": "stream",
          "name": "stdout",
          "text": [
            "tf.Tensor(\n",
            "[[ 2  0 -2]\n",
            " [ 1  1  1]], shape=(2, 3), dtype=int32)\n"
          ]
        }
      ]
    },
    {
      "cell_type": "code",
      "source": [
        "tensor_three_d=tf.constant([[[2,0,-2],[1,1,1]],[[2,0,-2],[-1,-1,-1]],[[4,7,6],[9,6,2]]])#a tensor of 3-d\n",
        "print(tensor_three_d)"
      ],
      "metadata": {
        "colab": {
          "base_uri": "https://localhost:8080/"
        },
        "id": "zNuxe95Tcbby",
        "outputId": "f125cb05-f16c-4018-8208-762bfda610b3"
      },
      "execution_count": 5,
      "outputs": [
        {
          "output_type": "stream",
          "name": "stdout",
          "text": [
            "tf.Tensor(\n",
            "[[[ 2  0 -2]\n",
            "  [ 1  1  1]]\n",
            "\n",
            " [[ 2  0 -2]\n",
            "  [-1 -1 -1]]\n",
            "\n",
            " [[ 4  7  6]\n",
            "  [ 9  6  2]]], shape=(3, 2, 3), dtype=int32)\n"
          ]
        }
      ]
    },
    {
      "cell_type": "markdown",
      "source": [
        "bfloat32->leap from 32 to 16 bit very e"
      ],
      "metadata": {
        "id": "rzC7--UYfdTu"
      }
    },
    {
      "cell_type": "markdown",
      "source": [
        "moving from float 64 to 32 or to 16"
      ],
      "metadata": {
        "id": "MXJLUPYyftUo"
      }
    },
    {
      "cell_type": "code",
      "source": [
        "tensor_one_d=tf.constant([2,0.5,-2],dtype=tf.float32)\n",
        "print(tensor_one_d)\n",
        "casted_tensor_one_d=tf.cast(tensor_one_d,dtype=tf.float16)\n",
        "print(casted_tensor_one_d)"
      ],
      "metadata": {
        "colab": {
          "base_uri": "https://localhost:8080/"
        },
        "id": "SGk1VHQhfwKa",
        "outputId": "6e4ef15f-3f13-4d5f-945f-7b1df1422549"
      },
      "execution_count": 6,
      "outputs": [
        {
          "output_type": "stream",
          "name": "stdout",
          "text": [
            "tf.Tensor([ 2.   0.5 -2. ], shape=(3,), dtype=float32)\n",
            "tf.Tensor([ 2.   0.5 -2. ], shape=(3,), dtype=float16)\n"
          ]
        }
      ]
    },
    {
      "cell_type": "markdown",
      "source": [
        "PYTHON OBJECT INTO TENSOR"
      ],
      "metadata": {
        "id": "M47bzln1gT7O"
      }
    },
    {
      "cell_type": "code",
      "source": [
        "import numpy as np"
      ],
      "metadata": {
        "id": "hzFCMpq-gW6R"
      },
      "execution_count": 7,
      "outputs": []
    },
    {
      "cell_type": "code",
      "source": [
        "x_np=np.array([2,3,4])\n",
        "print(x_np)"
      ],
      "metadata": {
        "colab": {
          "base_uri": "https://localhost:8080/"
        },
        "id": "1HXfzKCX8vs9",
        "outputId": "225cbf0b-bbbe-4125-dd3f-00981a721f44"
      },
      "execution_count": 8,
      "outputs": [
        {
          "output_type": "stream",
          "name": "stdout",
          "text": [
            "[2 3 4]\n"
          ]
        }
      ]
    },
    {
      "cell_type": "code",
      "source": [
        "x_tf=tf.convert_to_tensor(x_np,dtype=tf.float16)\n",
        "print(x_tf)"
      ],
      "metadata": {
        "colab": {
          "base_uri": "https://localhost:8080/"
        },
        "id": "rAijia8G8y4x",
        "outputId": "6ae48db1-3e40-4c74-f968-dcd8d4bd45cf"
      },
      "execution_count": 9,
      "outputs": [
        {
          "output_type": "stream",
          "name": "stdout",
          "text": [
            "tf.Tensor([2. 3. 4.], shape=(3,), dtype=float16)\n"
          ]
        }
      ]
    },
    {
      "cell_type": "markdown",
      "source": [
        "TO CREATE n identity matrix-->tf.eye(\n",
        "    num_rows,\n",
        "    num_columns=None,\n",
        "    batch_shape=None,\n",
        "    dtype=tf.dtypes.float32,\n",
        "    name=None\n",
        ")"
      ],
      "metadata": {
        "id": "LXl2Ibi393XM"
      }
    },
    {
      "cell_type": "code",
      "source": [
        "identity_matrix=tf.eye(8,num_columns=3,batch_shape=[3])\n",
        "print(identity_matrix)\n",
        "#condition when row_number==column number"
      ],
      "metadata": {
        "colab": {
          "base_uri": "https://localhost:8080/"
        },
        "id": "BMaWYQUe-PGS",
        "outputId": "e95d2a75-a85a-4f68-ef05-75496b055055"
      },
      "execution_count": 10,
      "outputs": [
        {
          "output_type": "stream",
          "name": "stdout",
          "text": [
            "tf.Tensor(\n",
            "[[[1. 0. 0.]\n",
            "  [0. 1. 0.]\n",
            "  [0. 0. 1.]\n",
            "  [0. 0. 0.]\n",
            "  [0. 0. 0.]\n",
            "  [0. 0. 0.]\n",
            "  [0. 0. 0.]\n",
            "  [0. 0. 0.]]\n",
            "\n",
            " [[1. 0. 0.]\n",
            "  [0. 1. 0.]\n",
            "  [0. 0. 1.]\n",
            "  [0. 0. 0.]\n",
            "  [0. 0. 0.]\n",
            "  [0. 0. 0.]\n",
            "  [0. 0. 0.]\n",
            "  [0. 0. 0.]]\n",
            "\n",
            " [[1. 0. 0.]\n",
            "  [0. 1. 0.]\n",
            "  [0. 0. 1.]\n",
            "  [0. 0. 0.]\n",
            "  [0. 0. 0.]\n",
            "  [0. 0. 0.]\n",
            "  [0. 0. 0.]\n",
            "  [0. 0. 0.]]], shape=(3, 8, 3), dtype=float32)\n"
          ]
        }
      ]
    },
    {
      "cell_type": "markdown",
      "source": [
        "tf.fill-->Creates a tensor filled with a scalar value.\n",
        "tf.fill(\n",
        "    dims, value, name=None\n",
        ")"
      ],
      "metadata": {
        "id": "4zPHpnQG_xSh"
      }
    },
    {
      "cell_type": "code",
      "source": [
        "tf.fill([4,3],9)"
      ],
      "metadata": {
        "colab": {
          "base_uri": "https://localhost:8080/"
        },
        "id": "I9WhM1ZU-WiV",
        "outputId": "ddf73293-0dca-4549-ea93-7965b8b85707"
      },
      "execution_count": 11,
      "outputs": [
        {
          "output_type": "execute_result",
          "data": {
            "text/plain": [
              "<tf.Tensor: shape=(4, 3), dtype=int32, numpy=\n",
              "array([[9, 9, 9],\n",
              "       [9, 9, 9],\n",
              "       [9, 9, 9],\n",
              "       [9, 9, 9]], dtype=int32)>"
            ]
          },
          "metadata": {},
          "execution_count": 11
        }
      ]
    },
    {
      "cell_type": "markdown",
      "source": [
        "tf.ones->all value set to one\n",
        "i**t has a arument of datatype change whereas fill does** **not have** "
      ],
      "metadata": {
        "id": "NvgvmWerAxqG"
      }
    },
    {
      "cell_type": "code",
      "source": [
        "ones_tensor=tf.ones([4,4])\n",
        "print(ones_tensor)"
      ],
      "metadata": {
        "colab": {
          "base_uri": "https://localhost:8080/"
        },
        "id": "lIS-ixt3Aom5",
        "outputId": "5c4327b6-e790-43ee-f536-755b6bc23512"
      },
      "execution_count": 12,
      "outputs": [
        {
          "output_type": "stream",
          "name": "stdout",
          "text": [
            "tf.Tensor(\n",
            "[[1. 1. 1. 1.]\n",
            " [1. 1. 1. 1.]\n",
            " [1. 1. 1. 1.]\n",
            " [1. 1. 1. 1.]], shape=(4, 4), dtype=float32)\n"
          ]
        }
      ]
    },
    {
      "cell_type": "code",
      "source": [
        "zeros_tensor=tf.zeros([2,4,4])\n",
        "print(zeros_tensor)"
      ],
      "metadata": {
        "colab": {
          "base_uri": "https://localhost:8080/"
        },
        "id": "3AQRaL26A4Cd",
        "outputId": "5d6d1f5f-59f8-4e0f-8c39-b8c2cb272e66"
      },
      "execution_count": 13,
      "outputs": [
        {
          "output_type": "stream",
          "name": "stdout",
          "text": [
            "tf.Tensor(\n",
            "[[[0. 0. 0. 0.]\n",
            "  [0. 0. 0. 0.]\n",
            "  [0. 0. 0. 0.]\n",
            "  [0. 0. 0. 0.]]\n",
            "\n",
            " [[0. 0. 0. 0.]\n",
            "  [0. 0. 0. 0.]\n",
            "  [0. 0. 0. 0.]\n",
            "  [0. 0. 0. 0.]]], shape=(2, 4, 4), dtype=float32)\n"
          ]
        }
      ]
    },
    {
      "cell_type": "markdown",
      "source": [
        "**tf.ones_like**\n",
        "Creates a tensor of all ones that has the same shape as the input.\n",
        "\n",
        "\n",
        "\n",
        "\n"
      ],
      "metadata": {
        "id": "D0lw8DPxCGtw"
      }
    },
    {
      "cell_type": "markdown",
      "source": [
        "tf.ones_like(\n",
        "    input, dtype=None, name=None\n",
        ")"
      ],
      "metadata": {
        "id": "Cp-6-xzyCk8i"
      }
    },
    {
      "cell_type": "code",
      "source": [
        "tensor = tf.constant([[1, 2, 3], [4, 5, 6]])\n",
        "tf.ones_like(tensor)"
      ],
      "metadata": {
        "colab": {
          "base_uri": "https://localhost:8080/"
        },
        "id": "BfX_rmE-BzA7",
        "outputId": "f9bc9c10-b870-48e3-f119-21e132b29d17"
      },
      "execution_count": 14,
      "outputs": [
        {
          "output_type": "execute_result",
          "data": {
            "text/plain": [
              "<tf.Tensor: shape=(2, 3), dtype=int32, numpy=\n",
              "array([[1, 1, 1],\n",
              "       [1, 1, 1]], dtype=int32)>"
            ]
          },
          "metadata": {},
          "execution_count": 14
        }
      ]
    },
    {
      "cell_type": "code",
      "source": [
        "tf.randon_normal_initializer"
      ],
      "metadata": {
        "id": "MNOiRKKzCpNi",
        "colab": {
          "base_uri": "https://localhost:8080/",
          "height": 165
        },
        "outputId": "2ded81e2-3ad5-45bc-ec72-213bc76ac793"
      },
      "execution_count": 15,
      "outputs": [
        {
          "output_type": "error",
          "ename": "AttributeError",
          "evalue": "ignored",
          "traceback": [
            "\u001b[0;31m---------------------------------------------------------------------------\u001b[0m",
            "\u001b[0;31mAttributeError\u001b[0m                            Traceback (most recent call last)",
            "\u001b[0;32m<ipython-input-15-478363d0523f>\u001b[0m in \u001b[0;36m<cell line: 1>\u001b[0;34m()\u001b[0m\n\u001b[0;32m----> 1\u001b[0;31m \u001b[0mtf\u001b[0m\u001b[0;34m.\u001b[0m\u001b[0mrandon_normal_initializer\u001b[0m\u001b[0;34m\u001b[0m\u001b[0;34m\u001b[0m\u001b[0m\n\u001b[0m",
            "\u001b[0;31mAttributeError\u001b[0m: module 'tensorflow' has no attribute 'randon_normal_initializer'"
          ]
        }
      ]
    },
    {
      "cell_type": "markdown",
      "source": [
        "**tf.randon_normal_initializer->Initializer that generates tensors with a normal distribution. tf.random_normal_initializer( mean=0.0, stddev=0.05, seed=None )**"
      ],
      "metadata": {
        "id": "V7FRYcYQO6P-"
      }
    },
    {
      "cell_type": "code",
      "source": [
        "normal_tensor=tf.random_normal_initializer(mean=0,stddev=0.05,seed=None)"
      ],
      "metadata": {
        "id": "jyHd8YZ8K6YZ"
      },
      "execution_count": 17,
      "outputs": []
    },
    {
      "cell_type": "code",
      "source": [
        "print(normal_tensor)"
      ],
      "metadata": {
        "colab": {
          "base_uri": "https://localhost:8080/"
        },
        "id": "6NX2ZeoVLGB3",
        "outputId": "f0689eea-7d8a-4d04-ded2-e0c7c1cedb73"
      },
      "execution_count": 18,
      "outputs": [
        {
          "output_type": "stream",
          "name": "stdout",
          "text": [
            "<tensorflow.python.ops.init_ops_v2.RandomNormal object at 0x7f4ad290a4f0>\n"
          ]
        }
      ]
    },
    {
      "cell_type": "markdown",
      "source": [
        "tf.range-->Creates a sequence of numbers.\n",
        "tf.range(limit, delta=1, dtype=None, name='range')\n",
        "tf.range(start, limit, delta=1, dtype=None, name='range') "
      ],
      "metadata": {
        "id": "jxmbxneOLXrx"
      }
    },
    {
      "cell_type": "markdown",
      "source": [
        "**tf.range-->Creates a sequence of numbers.\n",
        "tf.range(limit, delta=1, dtype=None, name='range')\n",
        "tf.range(start, limit, delta=1, dtype=None, name='range') **"
      ],
      "metadata": {
        "id": "Wohf1iuPPS7B"
      }
    },
    {
      "cell_type": "code",
      "source": [
        "start = 3\n",
        "limit = 18\n",
        "delta = 3\n",
        "rnage_tensor=tf.range(start, limit, delta)\n",
        "print(rnage_tensor)\n",
        "# start to limit-1\n"
      ],
      "metadata": {
        "colab": {
          "base_uri": "https://localhost:8080/"
        },
        "id": "ySMhbIgtLTrr",
        "outputId": "1859cf26-ff31-4561-ee2e-298f6d858477"
      },
      "execution_count": 19,
      "outputs": [
        {
          "output_type": "stream",
          "name": "stdout",
          "text": [
            "tf.Tensor([ 3  6  9 12 15], shape=(5,), dtype=int32)\n"
          ]
        }
      ]
    },
    {
      "cell_type": "markdown",
      "source": [
        "**tf.shape->give the shape**\n",
        "it return a list but the function .shape return a tuple"
      ],
      "metadata": {
        "id": "NA7h6QBXMMu9"
      }
    },
    {
      "cell_type": "code",
      "source": [
        "print(tf.shape(tensor_three_d))"
      ],
      "metadata": {
        "colab": {
          "base_uri": "https://localhost:8080/"
        },
        "id": "gl0JJoPmL2ef",
        "outputId": "ce881dc2-a93a-42e1-8387-744c73a622a9"
      },
      "execution_count": 20,
      "outputs": [
        {
          "output_type": "stream",
          "name": "stdout",
          "text": [
            "tf.Tensor([3 2 3], shape=(3,), dtype=int32)\n"
          ]
        }
      ]
    },
    {
      "cell_type": "markdown",
      "source": [
        "tf.size-->no of element in tensor"
      ],
      "metadata": {
        "id": "iRzx3MoJMlyE"
      }
    },
    {
      "cell_type": "markdown",
      "source": [
        "**tf.random_generator**"
      ],
      "metadata": {
        "id": "WguISqt1N8wB"
      }
    },
    {
      "cell_type": "code",
      "source": [
        "g = tf.random.Generator.from_non_deterministic_state()\n",
        "g.normal(shape=(2, 3))"
      ],
      "metadata": {
        "colab": {
          "base_uri": "https://localhost:8080/"
        },
        "id": "11pRpwnBOAVZ",
        "outputId": "dec1310d-131d-4a4b-9769-162487dcd0f9"
      },
      "execution_count": 21,
      "outputs": [
        {
          "output_type": "execute_result",
          "data": {
            "text/plain": [
              "<tf.Tensor: shape=(2, 3), dtype=float32, numpy=\n",
              "array([[-0.622292  ,  0.12794739, -0.9379128 ],\n",
              "       [-0.3565745 ,  1.18828   ,  0.6665595 ]], dtype=float32)>"
            ]
          },
          "metadata": {},
          "execution_count": 21
        }
      ]
    },
    {
      "cell_type": "code",
      "source": [
        "g.normal(shape=(2, 3))"
      ],
      "metadata": {
        "colab": {
          "base_uri": "https://localhost:8080/"
        },
        "id": "-VceT0ZUOoBO",
        "outputId": "9fe4c588-0a79-4e66-dccf-758ae9251f7d"
      },
      "execution_count": 22,
      "outputs": [
        {
          "output_type": "execute_result",
          "data": {
            "text/plain": [
              "<tf.Tensor: shape=(2, 3), dtype=float32, numpy=\n",
              "array([[ 1.9830542 , -0.985812  , -1.8495023 ],\n",
              "       [-0.6278928 ,  1.132487  , -0.78076917]], dtype=float32)>"
            ]
          },
          "metadata": {},
          "execution_count": 22
        }
      ]
    },
    {
      "cell_type": "markdown",
      "source": [
        "**in non-deterministic way we are generating diffferent random everytime but with seed we will not**"
      ],
      "metadata": {
        "id": "66EoNPPaOtzz"
      }
    },
    {
      "cell_type": "code",
      "source": [
        "g = tf.random.Generator.from_seed(1234)\n",
        "g.normal(shape=(2, 3))"
      ],
      "metadata": {
        "colab": {
          "base_uri": "https://localhost:8080/"
        },
        "id": "8EDnDvhWOqFh",
        "outputId": "782d1f03-1114-47f1-a14e-3e3957fa8fd2"
      },
      "execution_count": 23,
      "outputs": [
        {
          "output_type": "execute_result",
          "data": {
            "text/plain": [
              "<tf.Tensor: shape=(2, 3), dtype=float32, numpy=\n",
              "array([[ 0.9356609 ,  1.0854305 , -0.93788373],\n",
              "       [-0.5061547 ,  1.3169702 ,  0.7137579 ]], dtype=float32)>"
            ]
          },
          "metadata": {},
          "execution_count": 23
        }
      ]
    },
    {
      "cell_type": "code",
      "source": [
        "g.normal(shape=(2, 3))"
      ],
      "metadata": {
        "colab": {
          "base_uri": "https://localhost:8080/"
        },
        "id": "TiuzpWuePED1",
        "outputId": "ee808965-67fd-471f-b206-c41aad4f23b0"
      },
      "execution_count": 24,
      "outputs": [
        {
          "output_type": "execute_result",
          "data": {
            "text/plain": [
              "<tf.Tensor: shape=(2, 3), dtype=float32, numpy=\n",
              "array([[-0.39647493,  0.83695656, -0.30946946],\n",
              "       [ 1.1206646 ,  1.008526  , -0.10185789]], dtype=float32)>"
            ]
          },
          "metadata": {},
          "execution_count": 24
        }
      ]
    },
    {
      "cell_type": "code",
      "source": [
        "g = tf.random.Generator.from_seed(1234)\n",
        "g.normal(shape=(2, 3),mean=100,stddev=1)"
      ],
      "metadata": {
        "colab": {
          "base_uri": "https://localhost:8080/"
        },
        "id": "o_OnysrGPFzV",
        "outputId": "125ca66f-a217-483a-dbc3-b424f2bc6822"
      },
      "execution_count": 25,
      "outputs": [
        {
          "output_type": "execute_result",
          "data": {
            "text/plain": [
              "<tf.Tensor: shape=(2, 3), dtype=float32, numpy=\n",
              "array([[100.93566 , 101.085434,  99.06212 ],\n",
              "       [ 99.49384 , 101.31697 , 100.71376 ]], dtype=float32)>"
            ]
          },
          "metadata": {},
          "execution_count": 25
        }
      ]
    },
    {
      "cell_type": "code",
      "source": [
        "g = tf.random.Generator.from_seed(1234)\n",
        "g.normal(shape=(2, 3),mean=100,stddev=100)"
      ],
      "metadata": {
        "colab": {
          "base_uri": "https://localhost:8080/"
        },
        "id": "RQwGG0HjRK5S",
        "outputId": "1dd9fc7f-fdc5-42fc-f5bb-5a355f910ba1"
      },
      "execution_count": 26,
      "outputs": [
        {
          "output_type": "execute_result",
          "data": {
            "text/plain": [
              "<tf.Tensor: shape=(2, 3), dtype=float32, numpy=\n",
              "array([[193.5661  , 208.54306 ,   6.211624],\n",
              "       [ 49.38453 , 231.69702 , 171.3758  ]], dtype=float32)>"
            ]
          },
          "metadata": {},
          "execution_count": 26
        }
      ]
    },
    {
      "cell_type": "markdown",
      "source": [
        "**value to be between ninval and maxval**"
      ],
      "metadata": {
        "id": "OfRQRjcBSJ4P"
      }
    },
    {
      "cell_type": "code",
      "source": [
        "g = tf.random.Generator.from_seed(1234)\n",
        "g.uniform(shape=(2, 3),minval=0,maxval=100)"
      ],
      "metadata": {
        "colab": {
          "base_uri": "https://localhost:8080/"
        },
        "id": "jKR-XgOvRUC3",
        "outputId": "66ade954-7c38-44d0-8bf6-65766026ed09"
      },
      "execution_count": 27,
      "outputs": [
        {
          "output_type": "execute_result",
          "data": {
            "text/plain": [
              "<tf.Tensor: shape=(2, 3), dtype=float32, numpy=\n",
              "array([[35.81475 , 11.322761, 56.670906],\n",
              "       [67.12369 , 32.565056, 17.095459]], dtype=float32)>"
            ]
          },
          "metadata": {},
          "execution_count": 27
        }
      ]
    },
    {
      "cell_type": "code",
      "source": [
        "g = tf.random.Generator.from_seed(1234)\n",
        "g.uniform(shape=(2, 3),minval=0,maxval=1000)"
      ],
      "metadata": {
        "colab": {
          "base_uri": "https://localhost:8080/"
        },
        "id": "DE15ild1Rcju",
        "outputId": "0352b4c9-ee35-4cfd-e5ca-25f4a7c4faa4"
      },
      "execution_count": 28,
      "outputs": [
        {
          "output_type": "execute_result",
          "data": {
            "text/plain": [
              "<tf.Tensor: shape=(2, 3), dtype=float32, numpy=\n",
              "array([[358.1475 , 113.22761, 566.70905],\n",
              "       [671.2369 , 325.65057, 170.95459]], dtype=float32)>"
            ]
          },
          "metadata": {},
          "execution_count": 28
        }
      ]
    },
    {
      "cell_type": "markdown",
      "source": [
        "**tf.random.normal(shape,mean,stddev,dtype,seed,name)**"
      ],
      "metadata": {
        "id": "Rdcdm3DVShjr"
      }
    },
    {
      "cell_type": "code",
      "source": [
        "tf.random.normal((3,4),mean=0,stddev=1.0,dtype=tf.dtypes.float32,seed=None,name=\"Random Number with Normal Distribution\")"
      ],
      "metadata": {
        "colab": {
          "base_uri": "https://localhost:8080/"
        },
        "id": "qJYyV1PXSIVE",
        "outputId": "a83deb57-abdd-4f16-b966-fbe664a5530a"
      },
      "execution_count": 29,
      "outputs": [
        {
          "output_type": "execute_result",
          "data": {
            "text/plain": [
              "<tf.Tensor: shape=(3, 4), dtype=float32, numpy=\n",
              "array([[-0.53508705, -0.5796262 ,  1.3805901 ,  0.06075319],\n",
              "       [ 0.22476332,  0.97427255,  1.8780966 ,  1.1366665 ],\n",
              "       [-0.272392  , -1.259044  , -0.53289926,  0.98424023]],\n",
              "      dtype=float32)>"
            ]
          },
          "metadata": {},
          "execution_count": 29
        }
      ]
    },
    {
      "cell_type": "code",
      "source": [
        "tf.random.uniform((3,4),minval=0,maxval=1.0,dtype=tf.dtypes.float32,seed=None,name=\"Random Number with Normal Distribution\")"
      ],
      "metadata": {
        "colab": {
          "base_uri": "https://localhost:8080/"
        },
        "id": "ONlcJWseS5Au",
        "outputId": "5e3c7144-e762-4941-a543-ccd848909f88"
      },
      "execution_count": 30,
      "outputs": [
        {
          "output_type": "execute_result",
          "data": {
            "text/plain": [
              "<tf.Tensor: shape=(3, 4), dtype=float32, numpy=\n",
              "array([[0.34279144, 0.06602979, 0.8540745 , 0.41591442],\n",
              "       [0.7832916 , 0.3654971 , 0.80264235, 0.12592292],\n",
              "       [0.36132216, 0.7407553 , 0.9026619 , 0.61293244]], dtype=float32)>"
            ]
          },
          "metadata": {},
          "execution_count": 30
        }
      ]
    },
    {
      "cell_type": "markdown",
      "source": [
        "**tensor_index**\n",
        "MIN:MAX-1"
      ],
      "metadata": {
        "id": "nJ_I3m9nTM14"
      }
    },
    {
      "cell_type": "code",
      "source": [
        "tensor_indexed=tf.constant([3,6,2,4,6,66,7],dtype=tf.float32)\n",
        "print(tensor_indexed)\n",
        "print(tensor_indexed[0:4])"
      ],
      "metadata": {
        "colab": {
          "base_uri": "https://localhost:8080/"
        },
        "id": "7ILymItHS7gr",
        "outputId": "ae455386-bba3-4f11-c95f-2729a2d4db0a"
      },
      "execution_count": 31,
      "outputs": [
        {
          "output_type": "stream",
          "name": "stdout",
          "text": [
            "tf.Tensor([ 3.  6.  2.  4.  6. 66.  7.], shape=(7,), dtype=float32)\n",
            "tf.Tensor([3. 6. 2. 4.], shape=(4,), dtype=float32)\n"
          ]
        }
      ]
    },
    {
      "cell_type": "code",
      "source": [
        "tensor_two_d=tf.constant([[1,2,0],\n",
        "                          [3,5,-1],\n",
        "                          [1,5,6],\n",
        "                          [2,3,8]])\n",
        "print(tensor_two_d[0:3,0:2])"
      ],
      "metadata": {
        "id": "3btQPzOXTnJN",
        "colab": {
          "base_uri": "https://localhost:8080/"
        },
        "outputId": "bf56322f-7fb3-43ca-97f2-ea5226fcd0f0"
      },
      "execution_count": 33,
      "outputs": [
        {
          "output_type": "stream",
          "name": "stdout",
          "text": [
            "tf.Tensor(\n",
            "[[1 2]\n",
            " [3 5]\n",
            " [1 5]], shape=(3, 2), dtype=int32)\n"
          ]
        }
      ]
    },
    {
      "cell_type": "markdown",
      "source": [
        "[ROW PART,COLUMN PART]"
      ],
      "metadata": {
        "id": "4xtc3D6GF5QJ"
      }
    },
    {
      "cell_type": "code",
      "source": [
        "print(tensor_two_d[0:3,])"
      ],
      "metadata": {
        "colab": {
          "base_uri": "https://localhost:8080/"
        },
        "id": "4Jp8y9yYF0Zh",
        "outputId": "9cd093ad-0eb4-4383-adb9-30c51f9d0768"
      },
      "execution_count": 34,
      "outputs": [
        {
          "output_type": "stream",
          "name": "stdout",
          "text": [
            "tf.Tensor(\n",
            "[[ 1  2  0]\n",
            " [ 3  5 -1]\n",
            " [ 1  5  6]], shape=(3, 3), dtype=int32)\n"
          ]
        }
      ]
    },
    {
      "cell_type": "code",
      "source": [
        "print(tensor_two_d[2,])"
      ],
      "metadata": {
        "colab": {
          "base_uri": "https://localhost:8080/"
        },
        "id": "nz9z8X-TGNJ1",
        "outputId": "de97bce5-ef20-4619-c0e6-7d2fd54c5125"
      },
      "execution_count": 35,
      "outputs": [
        {
          "output_type": "stream",
          "name": "stdout",
          "text": [
            "tf.Tensor([1 5 6], shape=(3,), dtype=int32)\n"
          ]
        }
      ]
    },
    {
      "cell_type": "code",
      "source": [
        "print(tensor_two_d[2,1:])"
      ],
      "metadata": {
        "colab": {
          "base_uri": "https://localhost:8080/"
        },
        "id": "eW8guswGGnxl",
        "outputId": "a0604c18-c49f-4163-ecb7-54406243ba9c"
      },
      "execution_count": 36,
      "outputs": [
        {
          "output_type": "stream",
          "name": "stdout",
          "text": [
            "tf.Tensor([5 6], shape=(2,), dtype=int32)\n"
          ]
        }
      ]
    },
    {
      "cell_type": "code",
      "source": [
        "print(tensor_two_d[1:3,0])"
      ],
      "metadata": {
        "colab": {
          "base_uri": "https://localhost:8080/"
        },
        "id": "itICSRbmGr-R",
        "outputId": "d49ddfa9-de33-46c2-951a-bb6caf759eed"
      },
      "execution_count": 42,
      "outputs": [
        {
          "output_type": "stream",
          "name": "stdout",
          "text": [
            "tf.Tensor([3 1], shape=(2,), dtype=int32)\n"
          ]
        }
      ]
    },
    {
      "cell_type": "code",
      "source": [
        "print(tensor_two_d[...,0:2]) # three dot means everything"
      ],
      "metadata": {
        "colab": {
          "base_uri": "https://localhost:8080/"
        },
        "id": "svu44b-4Gyma",
        "outputId": "60908afb-5769-44d2-9648-9a00b453edeb"
      },
      "execution_count": 43,
      "outputs": [
        {
          "output_type": "stream",
          "name": "stdout",
          "text": [
            "tf.Tensor(\n",
            "[[1 2]\n",
            " [3 5]\n",
            " [1 5]\n",
            " [2 3]], shape=(4, 2), dtype=int32)\n"
          ]
        }
      ]
    },
    {
      "cell_type": "code",
      "source": [
        "tensor_three_d=tf.constant([[[1,2,0],\n",
        "                             [3,5,-1]],\n",
        "                            \n",
        "                            [[10,2,0],\n",
        "                             [1,0,2]],\n",
        "                            \n",
        "                            [[5,8,0],\n",
        "                             [2,7,0]],\n",
        "\n",
        "                             [[2,1,9],\n",
        "                              [4,-3,32]]])\n",
        "\n",
        "print(tensor_three_d)"
      ],
      "metadata": {
        "colab": {
          "base_uri": "https://localhost:8080/"
        },
        "id": "IsSeTxBnHHuL",
        "outputId": "d3d59631-73cd-4027-a7ec-8c9bc9de0b19"
      },
      "execution_count": 45,
      "outputs": [
        {
          "output_type": "stream",
          "name": "stdout",
          "text": [
            "tf.Tensor(\n",
            "[[[ 1  2  0]\n",
            "  [ 3  5 -1]]\n",
            "\n",
            " [[10  2  0]\n",
            "  [ 1  0  2]]\n",
            "\n",
            " [[ 5  8  0]\n",
            "  [ 2  7  0]]\n",
            "\n",
            " [[ 2  1  9]\n",
            "  [ 4 -3 32]]], shape=(4, 2, 3), dtype=int32)\n"
          ]
        }
      ]
    },
    {
      "cell_type": "markdown",
      "source": [
        "**['FIRST_DIM','SECOND_DIM','THIRD_DIM']**"
      ],
      "metadata": {
        "id": "8qyKZcUwH_Nm"
      }
    },
    {
      "cell_type": "code",
      "source": [
        "print(tensor_three_d[0,0,:])"
      ],
      "metadata": {
        "colab": {
          "base_uri": "https://localhost:8080/"
        },
        "id": "QB7fI1FJHyRf",
        "outputId": "1f51707c-db97-4997-f5d3-bbb3aa66136a"
      },
      "execution_count": 47,
      "outputs": [
        {
          "output_type": "stream",
          "name": "stdout",
          "text": [
            "tf.Tensor([1 2 0], shape=(3,), dtype=int32)\n"
          ]
        }
      ]
    },
    {
      "cell_type": "code",
      "source": [
        "print(tensor_three_d[0,:,:])"
      ],
      "metadata": {
        "colab": {
          "base_uri": "https://localhost:8080/"
        },
        "id": "Kmq2y3CyIPkf",
        "outputId": "670c4c0c-b9f8-4f65-d4d1-5809eda5a7ee"
      },
      "execution_count": 48,
      "outputs": [
        {
          "output_type": "stream",
          "name": "stdout",
          "text": [
            "tf.Tensor(\n",
            "[[ 1  2  0]\n",
            " [ 3  5 -1]], shape=(2, 3), dtype=int32)\n"
          ]
        }
      ]
    },
    {
      "cell_type": "code",
      "source": [
        "print(tensor_three_d[0,:,-1])"
      ],
      "metadata": {
        "colab": {
          "base_uri": "https://localhost:8080/"
        },
        "id": "BrFRNmLTIXa4",
        "outputId": "4a6a52d6-17cb-4110-baa8-9eda3f7555c5"
      },
      "execution_count": 49,
      "outputs": [
        {
          "output_type": "stream",
          "name": "stdout",
          "text": [
            "tf.Tensor([ 0 -1], shape=(2,), dtype=int32)\n"
          ]
        }
      ]
    },
    {
      "cell_type": "code",
      "source": [
        "print(tensor_three_d[0:2,:,:])"
      ],
      "metadata": {
        "colab": {
          "base_uri": "https://localhost:8080/"
        },
        "id": "OfvsAoblIafE",
        "outputId": "00177ebc-af82-4368-862c-d1be60f7bbf5"
      },
      "execution_count": 51,
      "outputs": [
        {
          "output_type": "stream",
          "name": "stdout",
          "text": [
            "tf.Tensor(\n",
            "[[[ 1  2  0]\n",
            "  [ 3  5 -1]]\n",
            "\n",
            " [[10  2  0]\n",
            "  [ 1  0  2]]], shape=(2, 2, 3), dtype=int32)\n"
          ]
        }
      ]
    },
    {
      "cell_type": "code",
      "source": [
        "print(tensor_three_d[...,:,2])"
      ],
      "metadata": {
        "colab": {
          "base_uri": "https://localhost:8080/"
        },
        "id": "lqaGQNpKIf02",
        "outputId": "938a1292-c26d-4239-cfde-12d56a6ffe0d"
      },
      "execution_count": 52,
      "outputs": [
        {
          "output_type": "stream",
          "name": "stdout",
          "text": [
            "tf.Tensor(\n",
            "[[ 0 -1]\n",
            " [ 0  2]\n",
            " [ 0  0]\n",
            " [ 9 32]], shape=(4, 2), dtype=int32)\n"
          ]
        }
      ]
    },
    {
      "cell_type": "markdown",
      "source": [
        "**MATH FUNCTIONALITY**"
      ],
      "metadata": {
        "id": "8AhjndUuOoLy"
      }
    },
    {
      "cell_type": "code",
      "source": [
        "x_abs=tf.constant([-2.25,3.25])\n",
        "tf.abs(x_abs)"
      ],
      "metadata": {
        "colab": {
          "base_uri": "https://localhost:8080/"
        },
        "id": "oHZUYDd4IsuO",
        "outputId": "312ec341-16fa-4ba3-e2dd-294a6a5c3409"
      },
      "execution_count": 53,
      "outputs": [
        {
          "output_type": "execute_result",
          "data": {
            "text/plain": [
              "<tf.Tensor: shape=(2,), dtype=float32, numpy=array([2.25, 3.25], dtype=float32)>"
            ]
          },
          "metadata": {},
          "execution_count": 53
        }
      ]
    },
    {
      "cell_type": "markdown",
      "source": [
        "in case of complex number ghe output value is root-over(a2 +b2)"
      ],
      "metadata": {
        "id": "toImu80zO7I9"
      }
    },
    {
      "cell_type": "code",
      "source": [
        "x = tf.constant([[-2.25 + 4.75j], [-3.25 + 5.75j]])\n",
        "tf.abs(x)\n"
      ],
      "metadata": {
        "colab": {
          "base_uri": "https://localhost:8080/"
        },
        "id": "5bBMS4iVOyx7",
        "outputId": "033e3f0d-3fb7-41ca-e566-2d6439644fb1"
      },
      "execution_count": 54,
      "outputs": [
        {
          "output_type": "execute_result",
          "data": {
            "text/plain": [
              "<tf.Tensor: shape=(2, 1), dtype=float64, numpy=\n",
              "array([[5.25594901],\n",
              "       [6.60492241]])>"
            ]
          },
          "metadata": {},
          "execution_count": 54
        }
      ]
    },
    {
      "cell_type": "code",
      "source": [
        "tf.sqrt((-2.25**2 + 4.75**2))"
      ],
      "metadata": {
        "colab": {
          "base_uri": "https://localhost:8080/"
        },
        "id": "Mg2R_E5TPQeG",
        "outputId": "0cbb16bc-e633-40ff-84d5-d463e58f90f4"
      },
      "execution_count": 55,
      "outputs": [
        {
          "output_type": "execute_result",
          "data": {
            "text/plain": [
              "<tf.Tensor: shape=(), dtype=float32, numpy=4.1833>"
            ]
          },
          "metadata": {},
          "execution_count": 55
        }
      ]
    },
    {
      "cell_type": "code",
      "source": [
        "x = [1, 2, 3, 4, 5]\n",
        "y = tf.constant([1, 2, 3, 4, 5])\n",
        "tf.add(x, y)"
      ],
      "metadata": {
        "colab": {
          "base_uri": "https://localhost:8080/"
        },
        "id": "4zQ7X6WbPb3F",
        "outputId": "ef69df23-97c0-485e-fa93-2e8cc5a13a40"
      },
      "execution_count": 56,
      "outputs": [
        {
          "output_type": "execute_result",
          "data": {
            "text/plain": [
              "<tf.Tensor: shape=(5,), dtype=int32, numpy=array([ 2,  4,  6,  8, 10], dtype=int32)>"
            ]
          },
          "metadata": {},
          "execution_count": 56
        }
      ]
    },
    {
      "cell_type": "code",
      "source": [
        "x = [1, 2, 3, 4, 5]\n",
        "y = tf.constant([1, 2, 3, 4, 5])\n",
        "tf.multiply(x, y)"
      ],
      "metadata": {
        "colab": {
          "base_uri": "https://localhost:8080/"
        },
        "id": "FCiPntc-PkeI",
        "outputId": "8aaeb052-8bd5-40e0-bce7-53ccf4651439"
      },
      "execution_count": 57,
      "outputs": [
        {
          "output_type": "execute_result",
          "data": {
            "text/plain": [
              "<tf.Tensor: shape=(5,), dtype=int32, numpy=array([ 1,  4,  9, 16, 25], dtype=int32)>"
            ]
          },
          "metadata": {},
          "execution_count": 57
        }
      ]
    },
    {
      "cell_type": "code",
      "source": [
        "x = [1, 2, 3, 4, 5]\n",
        "y = tf.constant([1, 2, 3, 4, 5])\n",
        "tf.subtract(x, y)"
      ],
      "metadata": {
        "colab": {
          "base_uri": "https://localhost:8080/"
        },
        "id": "7ftmmoZYPoV3",
        "outputId": "468f7db4-3834-4baa-e030-23b91510f2c4"
      },
      "execution_count": 60,
      "outputs": [
        {
          "output_type": "execute_result",
          "data": {
            "text/plain": [
              "<tf.Tensor: shape=(5,), dtype=int32, numpy=array([0, 0, 0, 0, 0], dtype=int32)>"
            ]
          },
          "metadata": {},
          "execution_count": 60
        }
      ]
    },
    {
      "cell_type": "code",
      "source": [
        "x = [1, 2, 3, 4, 5]\n",
        "y = tf.constant([1, 2, 3, 4, 5])\n",
        "tf.divide(x, y)"
      ],
      "metadata": {
        "colab": {
          "base_uri": "https://localhost:8080/"
        },
        "id": "BlKVlAA2PrNQ",
        "outputId": "515f2cc7-1367-4e79-f9d0-e691a3022970"
      },
      "execution_count": 61,
      "outputs": [
        {
          "output_type": "execute_result",
          "data": {
            "text/plain": [
              "<tf.Tensor: shape=(5,), dtype=float64, numpy=array([1., 1., 1., 1., 1.])>"
            ]
          },
          "metadata": {},
          "execution_count": 61
        }
      ]
    },
    {
      "cell_type": "markdown",
      "source": [
        "when there is a division from zero we will get error so we use method math.divide.nan which will give the anser as 0"
      ],
      "metadata": {
        "id": "0NDCeM1eQFtj"
      }
    },
    {
      "cell_type": "code",
      "source": [
        "x = tf.constant([1, 2, 3, 4, 5],dtype=tf.float32)\n",
        "y = tf.constant([1, 2, 3, 0, 5],dtype=tf.float32)\n",
        "print(tf.math.divide_no_nan(x,y))"
      ],
      "metadata": {
        "colab": {
          "base_uri": "https://localhost:8080/"
        },
        "id": "MiCPgS6uPw9A",
        "outputId": "21078613-ffe9-4742-d554-130e1ec210f7"
      },
      "execution_count": 63,
      "outputs": [
        {
          "output_type": "stream",
          "name": "stdout",
          "text": [
            "tf.Tensor([1. 1. 1. 0. 1.], shape=(5,), dtype=float32)\n"
          ]
        }
      ]
    },
    {
      "cell_type": "code",
      "source": [
        "x = tf.constant([1, 2, 3, 4, 5],dtype=tf.float32)\n",
        "y = tf.constant([7],dtype=tf.float32)\n",
        "#example of bradcasting  where a smaller tensor is stretched out as [7,7,7,7,7]\n",
        "print(tf.add(x,y))"
      ],
      "metadata": {
        "colab": {
          "base_uri": "https://localhost:8080/"
        },
        "id": "hazWwG-9QakM",
        "outputId": "f2c7d40b-2f11-4cf5-c916-7d39eb87b0fa"
      },
      "execution_count": 66,
      "outputs": [
        {
          "output_type": "stream",
          "name": "stdout",
          "text": [
            "tf.Tensor([ 8.  9. 10. 11. 12.], shape=(5,), dtype=float32)\n"
          ]
        }
      ]
    },
    {
      "cell_type": "markdown",
      "source": [
        "**MATRIX MULTIPLICATION**"
      ],
      "metadata": {
        "id": "qTZDSR0NRNCj"
      }
    },
    {
      "cell_type": "code",
      "source": [
        "x_1=tf.constant([[5,3,6,6,4,6],],dtype=tf.float32)\n",
        "y_1=tf.constant([[5],[7],[6]],dtype=tf.float32)\n",
        "\n",
        "print(tf.math.multiply(x_1,y_1))"
      ],
      "metadata": {
        "colab": {
          "base_uri": "https://localhost:8080/"
        },
        "id": "5Af7FsVRQlzu",
        "outputId": "9fd7cb9d-4691-4617-a89d-db41ee8cb7db"
      },
      "execution_count": 67,
      "outputs": [
        {
          "output_type": "stream",
          "name": "stdout",
          "text": [
            "tf.Tensor(\n",
            "[[25. 15. 30. 30. 20. 30.]\n",
            " [35. 21. 42. 42. 28. 42.]\n",
            " [30. 18. 36. 36. 24. 36.]], shape=(3, 6), dtype=float32)\n"
          ]
        }
      ]
    },
    {
      "cell_type": "markdown",
      "source": [
        "**tf.matm.argmax-->give the position of the maximum value**"
      ],
      "metadata": {
        "id": "l0LSxeUFSgrE"
      }
    },
    {
      "cell_type": "code",
      "source": [
        "x_argmax=tf.constant([[2,20,30,3,6],\n",
        "                      [3,11,16,1,8],\n",
        "                      [14,45,23,5,27]])\n",
        "\n",
        "print(tf.math.argmin(x_argmax,0))# here 0 is saying the comparision is done o nthe basis of the column"
      ],
      "metadata": {
        "colab": {
          "base_uri": "https://localhost:8080/"
        },
        "id": "c7avzjOkSmOv",
        "outputId": "7306464a-1ee8-4cf2-e619-0befc3550524"
      },
      "execution_count": 68,
      "outputs": [
        {
          "output_type": "stream",
          "name": "stdout",
          "text": [
            "tf.Tensor([0 1 1 1 0], shape=(5,), dtype=int64)\n"
          ]
        }
      ]
    },
    {
      "cell_type": "markdown",
      "source": [
        "**in the above code the column are compared like for example 2,3,14 are comapared and the index of the highest position is returned**\n",
        "if the axis 1 than row wise is compared \n",
        "2,20.30,3,6"
      ],
      "metadata": {
        "id": "Cvxa1nLcTgac"
      }
    },
    {
      "cell_type": "markdown",
      "source": [
        "**tf.pow-->Given a tensor x and a tensor y, this operation computes \n",
        " for corresponding elements in x and y. For example:**"
      ],
      "metadata": {
        "id": "wZ0zUksLUKHb"
      }
    },
    {
      "cell_type": "code",
      "source": [
        "x = tf.constant([[2, 2], [3, 3]])\n",
        "y = tf.constant([[8, 16], [2, 3]])\n",
        "tf.pow(x, y)"
      ],
      "metadata": {
        "colab": {
          "base_uri": "https://localhost:8080/"
        },
        "id": "ZIv79zvUUQhZ",
        "outputId": "f9ab7487-3152-4243-d542-7ae2733c874f"
      },
      "execution_count": 69,
      "outputs": [
        {
          "output_type": "execute_result",
          "data": {
            "text/plain": [
              "<tf.Tensor: shape=(2, 2), dtype=int32, numpy=\n",
              "array([[  256, 65536],\n",
              "       [    9,    27]], dtype=int32)>"
            ]
          },
          "metadata": {},
          "execution_count": 69
        }
      ]
    },
    {
      "cell_type": "markdown",
      "source": [],
      "metadata": {
        "id": "XGHM0zNgUfzv"
      }
    },
    {
      "cell_type": "markdown",
      "source": [
        "**tf.math.reduce_sum-->Computes the sum of elements across dimensions of a tensor.**\n",
        "so basicilallyb if axis is not specified we goes on adding the number\n"
      ],
      "metadata": {
        "id": "2DVKB37mUf2B"
      }
    },
    {
      "cell_type": "code",
      "source": [
        "x = tf.constant([[1, 1, 1], [1, 1, 1]]) \n",
        "x.numpy()"
      ],
      "metadata": {
        "colab": {
          "base_uri": "https://localhost:8080/"
        },
        "id": "r4t6LF1_UVQa",
        "outputId": "fc9ad5a8-85ac-4534-bfe3-56d9b146c41c"
      },
      "execution_count": 71,
      "outputs": [
        {
          "output_type": "execute_result",
          "data": {
            "text/plain": [
              "array([[1, 1, 1],\n",
              "       [1, 1, 1]], dtype=int32)"
            ]
          },
          "metadata": {},
          "execution_count": 71
        }
      ]
    },
    {
      "cell_type": "code",
      "source": [
        "tf.reduce_sum(x).numpy()"
      ],
      "metadata": {
        "colab": {
          "base_uri": "https://localhost:8080/"
        },
        "id": "Ds5mPsijVAvk",
        "outputId": "17c77508-8e51-4c75-86c8-8e6a4377ed75"
      },
      "execution_count": 72,
      "outputs": [
        {
          "output_type": "execute_result",
          "data": {
            "text/plain": [
              "6"
            ]
          },
          "metadata": {},
          "execution_count": 72
        }
      ]
    },
    {
      "cell_type": "code",
      "source": [
        "tensor_two_d=tf.constant([[2,0,-2],[1,1,1]])#a tensor of 2-d\n",
        "\n",
        "print(tf.math.reduce_sum(tensor_two_d,axis=0,keepdims=False,name=None))\n"
      ],
      "metadata": {
        "colab": {
          "base_uri": "https://localhost:8080/"
        },
        "id": "HEpd0oliVFju",
        "outputId": "6df9824a-fd07-4ddc-c5b3-20ef8bfff013"
      },
      "execution_count": 73,
      "outputs": [
        {
          "output_type": "stream",
          "name": "stdout",
          "text": [
            "tf.Tensor([ 3  1 -1], shape=(3,), dtype=int32)\n"
          ]
        }
      ]
    },
    {
      "cell_type": "markdown",
      "source": [
        "if axis =0 we are suming the column wise\n",
        "if the axis=1 we are summing row wise"
      ],
      "metadata": {
        "id": "nctmTQSAVm_C"
      }
    },
    {
      "cell_type": "code",
      "source": [
        "tensor_two_d=tf.constant([[2,0,-2],[1,1,1]])#a tensor of 2-d\n",
        "\n",
        "print(tf.math.reduce_max(tensor_two_d,axis=0,keepdims=False,name=None))\n"
      ],
      "metadata": {
        "colab": {
          "base_uri": "https://localhost:8080/"
        },
        "id": "-HX5fLlNVf25",
        "outputId": "afd9383c-b4f6-4a99-8efb-e67ec0b4a55e"
      },
      "execution_count": 74,
      "outputs": [
        {
          "output_type": "stream",
          "name": "stdout",
          "text": [
            "tf.Tensor([2 1 1], shape=(3,), dtype=int32)\n"
          ]
        }
      ]
    },
    {
      "cell_type": "code",
      "source": [
        "tensor_two_d=tf.constant([[2,0,-2],[1,1,1]])#a tensor of 2-d\n",
        "\n",
        "print(tf.math.reduce_mean(tensor_two_d,axis=0,keepdims=False,name=None))\n"
      ],
      "metadata": {
        "colab": {
          "base_uri": "https://localhost:8080/"
        },
        "id": "FpxM-VAPV1XV",
        "outputId": "2be05f65-0a4e-42d1-89ba-73a139a62d83"
      },
      "execution_count": 75,
      "outputs": [
        {
          "output_type": "stream",
          "name": "stdout",
          "text": [
            "tf.Tensor([1 0 0], shape=(3,), dtype=int32)\n"
          ]
        }
      ]
    },
    {
      "cell_type": "markdown",
      "source": [
        "tf.math.sigmoid(\n",
        "    x, name=None\n",
        ")"
      ],
      "metadata": {
        "id": "mWLrOL1XWIb8"
      }
    },
    {
      "cell_type": "code",
      "source": [
        "x = tf.constant([0.0, 1.0, 50.0, 100.0])\n",
        "tf.math.sigmoid(x)"
      ],
      "metadata": {
        "colab": {
          "base_uri": "https://localhost:8080/"
        },
        "id": "U8pHukWQV8g7",
        "outputId": "d5b128df-b568-45d6-81fa-4273bbcb0584"
      },
      "execution_count": 76,
      "outputs": [
        {
          "output_type": "execute_result",
          "data": {
            "text/plain": [
              "<tf.Tensor: shape=(4,), dtype=float32, numpy=array([0.5      , 0.7310586, 1.       , 1.       ], dtype=float32)>"
            ]
          },
          "metadata": {},
          "execution_count": 76
        }
      ]
    },
    {
      "cell_type": "markdown",
      "source": [
        "**tf.top_k**"
      ],
      "metadata": {
        "id": "sCdx9pj6WXZV"
      }
    },
    {
      "cell_type": "code",
      "source": [],
      "metadata": {
        "id": "XbxNxZkwWOUY"
      },
      "execution_count": null,
      "outputs": []
    }
  ]
}